{
 "cells": [
  {
   "cell_type": "code",
   "execution_count": 56,
   "id": "df6dbd6b",
   "metadata": {
    "execution": {
     "iopub.execute_input": "2023-04-16T12:20:33.106532Z",
     "iopub.status.busy": "2023-04-16T12:20:33.105664Z",
     "iopub.status.idle": "2023-04-16T12:20:36.236446Z",
     "shell.execute_reply": "2023-04-16T12:20:36.235407Z"
    },
    "papermill": {
     "duration": 3.148345,
     "end_time": "2023-04-16T12:20:36.239546",
     "exception": false,
     "start_time": "2023-04-16T12:20:33.091201",
     "status": "completed"
    },
    "tags": []
   },
   "outputs": [],
   "source": [
    "import pandas as pd\n",
    "\n",
    "import matplotlib.pyplot as plt\n",
    "import seaborn as sb\n",
    "# import plotly.express as px\n",
    "\n",
    "from scipy import stats\n",
    "import statsmodels.stats.api as sms\n",
    "import plotly.graph_objects as go"
   ]
  },
  {
   "cell_type": "code",
   "execution_count": 57,
   "id": "4533183d",
   "metadata": {
    "execution": {
     "iopub.execute_input": "2023-04-16T12:20:36.268448Z",
     "iopub.status.busy": "2023-04-16T12:20:36.267480Z",
     "iopub.status.idle": "2023-04-16T12:20:36.272524Z",
     "shell.execute_reply": "2023-04-16T12:20:36.271721Z"
    },
    "papermill": {
     "duration": 0.021612,
     "end_time": "2023-04-16T12:20:36.274661",
     "exception": false,
     "start_time": "2023-04-16T12:20:36.253049",
     "status": "completed"
    },
    "tags": []
   },
   "outputs": [],
   "source": [
    "sb.set_style('darkgrid')\n",
    "plt.style.use('bmh')"
   ]
  },
  {
   "cell_type": "code",
   "execution_count": 58,
   "id": "8676cd4c",
   "metadata": {
    "execution": {
     "iopub.execute_input": "2023-04-16T12:20:36.327448Z",
     "iopub.status.busy": "2023-04-16T12:20:36.326816Z",
     "iopub.status.idle": "2023-04-16T12:20:36.367294Z",
     "shell.execute_reply": "2023-04-16T12:20:36.366124Z"
    },
    "papermill": {
     "duration": 0.058515,
     "end_time": "2023-04-16T12:20:36.370767",
     "exception": false,
     "start_time": "2023-04-16T12:20:36.312252",
     "status": "completed"
    },
    "tags": []
   },
   "outputs": [
    {
     "data": {
      "text/html": [
       "<div>\n",
       "<style scoped>\n",
       "    .dataframe tbody tr th:only-of-type {\n",
       "        vertical-align: middle;\n",
       "    }\n",
       "\n",
       "    .dataframe tbody tr th {\n",
       "        vertical-align: top;\n",
       "    }\n",
       "\n",
       "    .dataframe thead th {\n",
       "        text-align: right;\n",
       "    }\n",
       "</style>\n",
       "<table border=\"1\" class=\"dataframe\">\n",
       "  <thead>\n",
       "    <tr style=\"text-align: right;\">\n",
       "      <th></th>\n",
       "      <th>JobTitle</th>\n",
       "      <th>Gender</th>\n",
       "      <th>Age</th>\n",
       "      <th>PerfEval</th>\n",
       "      <th>Education</th>\n",
       "      <th>Dept</th>\n",
       "      <th>Seniority</th>\n",
       "      <th>BasePay</th>\n",
       "      <th>Bonus</th>\n",
       "    </tr>\n",
       "  </thead>\n",
       "  <tbody>\n",
       "    <tr>\n",
       "      <th>0</th>\n",
       "      <td>Graphic Designer</td>\n",
       "      <td>Female</td>\n",
       "      <td>18</td>\n",
       "      <td>5</td>\n",
       "      <td>College</td>\n",
       "      <td>Operations</td>\n",
       "      <td>2</td>\n",
       "      <td>508356</td>\n",
       "      <td>9938</td>\n",
       "    </tr>\n",
       "    <tr>\n",
       "      <th>1</th>\n",
       "      <td>Software Engineer</td>\n",
       "      <td>Male</td>\n",
       "      <td>21</td>\n",
       "      <td>5</td>\n",
       "      <td>College</td>\n",
       "      <td>Management</td>\n",
       "      <td>5</td>\n",
       "      <td>1301712</td>\n",
       "      <td>11128</td>\n",
       "    </tr>\n",
       "    <tr>\n",
       "      <th>2</th>\n",
       "      <td>Warehouse Associate</td>\n",
       "      <td>Female</td>\n",
       "      <td>19</td>\n",
       "      <td>4</td>\n",
       "      <td>PhD</td>\n",
       "      <td>Administration</td>\n",
       "      <td>5</td>\n",
       "      <td>1082496</td>\n",
       "      <td>9268</td>\n",
       "    </tr>\n",
       "    <tr>\n",
       "      <th>3</th>\n",
       "      <td>Software Engineer</td>\n",
       "      <td>Male</td>\n",
       "      <td>20</td>\n",
       "      <td>5</td>\n",
       "      <td>Masters</td>\n",
       "      <td>Sales</td>\n",
       "      <td>4</td>\n",
       "      <td>1296960</td>\n",
       "      <td>10154</td>\n",
       "    </tr>\n",
       "    <tr>\n",
       "      <th>4</th>\n",
       "      <td>Graphic Designer</td>\n",
       "      <td>Male</td>\n",
       "      <td>26</td>\n",
       "      <td>5</td>\n",
       "      <td>Masters</td>\n",
       "      <td>Engineering</td>\n",
       "      <td>5</td>\n",
       "      <td>1193568</td>\n",
       "      <td>9319</td>\n",
       "    </tr>\n",
       "  </tbody>\n",
       "</table>\n",
       "</div>"
      ],
      "text/plain": [
       "              JobTitle  Gender  Age  PerfEval Education            Dept  \\\n",
       "0     Graphic Designer  Female   18         5   College      Operations   \n",
       "1    Software Engineer    Male   21         5   College      Management   \n",
       "2  Warehouse Associate  Female   19         4       PhD  Administration   \n",
       "3    Software Engineer    Male   20         5   Masters           Sales   \n",
       "4     Graphic Designer    Male   26         5   Masters     Engineering   \n",
       "\n",
       "   Seniority  BasePay  Bonus  \n",
       "0          2   508356   9938  \n",
       "1          5  1301712  11128  \n",
       "2          5  1082496   9268  \n",
       "3          4  1296960  10154  \n",
       "4          5  1193568   9319  "
      ]
     },
     "execution_count": 58,
     "metadata": {},
     "output_type": "execute_result"
    }
   ],
   "source": [
    "df = pd.read_csv(\"./Glassdoor_GPG.csv\")\n",
    "df.head() "
   ]
  },
  {
   "cell_type": "code",
   "execution_count": 59,
   "id": "9eaaee53",
   "metadata": {
    "execution": {
     "iopub.execute_input": "2023-04-16T12:20:36.400414Z",
     "iopub.status.busy": "2023-04-16T12:20:36.399504Z",
     "iopub.status.idle": "2023-04-16T12:20:36.423044Z",
     "shell.execute_reply": "2023-04-16T12:20:36.421919Z"
    },
    "papermill": {
     "duration": 0.041238,
     "end_time": "2023-04-16T12:20:36.425698",
     "exception": false,
     "start_time": "2023-04-16T12:20:36.384460",
     "status": "completed"
    },
    "tags": []
   },
   "outputs": [
    {
     "name": "stdout",
     "output_type": "stream",
     "text": [
      "Number of Observations and Variables in the dataset  =  (1000, 9)\n",
      " \n",
      "<class 'pandas.core.frame.DataFrame'>\n",
      "RangeIndex: 1000 entries, 0 to 999\n",
      "Data columns (total 9 columns):\n",
      " #   Column     Non-Null Count  Dtype \n",
      "---  ------     --------------  ----- \n",
      " 0   JobTitle   1000 non-null   object\n",
      " 1   Gender     1000 non-null   object\n",
      " 2   Age        1000 non-null   int64 \n",
      " 3   PerfEval   1000 non-null   int64 \n",
      " 4   Education  1000 non-null   object\n",
      " 5   Dept       1000 non-null   object\n",
      " 6   Seniority  1000 non-null   int64 \n",
      " 7   BasePay    1000 non-null   int64 \n",
      " 8   Bonus      1000 non-null   int64 \n",
      "dtypes: int64(5), object(4)\n",
      "memory usage: 70.4+ KB\n"
     ]
    }
   ],
   "source": [
    "print('Number of Observations and Variables in the dataset  = ' ,df.shape) \n",
    "print(\" \")\n",
    "df.info()"
   ]
  },
  {
   "cell_type": "code",
   "execution_count": 60,
   "id": "dadd4eab",
   "metadata": {
    "execution": {
     "iopub.execute_input": "2023-04-16T12:20:36.454207Z",
     "iopub.status.busy": "2023-04-16T12:20:36.453217Z",
     "iopub.status.idle": "2023-04-16T12:20:36.470533Z",
     "shell.execute_reply": "2023-04-16T12:20:36.469392Z"
    },
    "papermill": {
     "duration": 0.034133,
     "end_time": "2023-04-16T12:20:36.472940",
     "exception": false,
     "start_time": "2023-04-16T12:20:36.438807",
     "status": "completed"
    },
    "tags": []
   },
   "outputs": [
    {
     "name": "stdout",
     "output_type": "stream",
     "text": [
      "JobTitle      10\n",
      "Gender         2\n",
      "Age           48\n",
      "PerfEval       5\n",
      "Education      4\n",
      "Dept           5\n",
      "Seniority      5\n",
      "BasePay      992\n",
      "Bonus        941\n",
      "dtype: int64\n"
     ]
    }
   ],
   "source": [
    "# Show number of unique values for each Column (Variable)\n",
    "print(df.nunique())\n"
   ]
  },
  {
   "cell_type": "code",
   "execution_count": 61,
   "id": "f4c52454",
   "metadata": {
    "execution": {
     "iopub.execute_input": "2023-04-16T12:20:36.527390Z",
     "iopub.status.busy": "2023-04-16T12:20:36.526633Z",
     "iopub.status.idle": "2023-04-16T12:20:36.535090Z",
     "shell.execute_reply": "2023-04-16T12:20:36.534257Z"
    },
    "papermill": {
     "duration": 0.025096,
     "end_time": "2023-04-16T12:20:36.537137",
     "exception": false,
     "start_time": "2023-04-16T12:20:36.512041",
     "status": "completed"
    },
    "tags": []
   },
   "outputs": [
    {
     "data": {
      "text/plain": [
       "JobTitle     0\n",
       "Gender       0\n",
       "Age          0\n",
       "PerfEval     0\n",
       "Education    0\n",
       "Dept         0\n",
       "Seniority    0\n",
       "BasePay      0\n",
       "Bonus        0\n",
       "dtype: int64"
      ]
     },
     "execution_count": 61,
     "metadata": {},
     "output_type": "execute_result"
    }
   ],
   "source": [
    "# Checking for Missing Values\n",
    "df.isnull().sum()"
   ]
  },
  {
   "cell_type": "code",
   "execution_count": 62,
   "id": "b4bb01e7",
   "metadata": {
    "execution": {
     "iopub.execute_input": "2023-04-16T12:20:36.617572Z",
     "iopub.status.busy": "2023-04-16T12:20:36.617146Z",
     "iopub.status.idle": "2023-04-16T12:20:36.645867Z",
     "shell.execute_reply": "2023-04-16T12:20:36.645002Z"
    },
    "papermill": {
     "duration": 0.045482,
     "end_time": "2023-04-16T12:20:36.647940",
     "exception": false,
     "start_time": "2023-04-16T12:20:36.602458",
     "status": "completed"
    },
    "tags": []
   },
   "outputs": [
    {
     "data": {
      "text/html": [
       "<div>\n",
       "<style scoped>\n",
       "    .dataframe tbody tr th:only-of-type {\n",
       "        vertical-align: middle;\n",
       "    }\n",
       "\n",
       "    .dataframe tbody tr th {\n",
       "        vertical-align: top;\n",
       "    }\n",
       "\n",
       "    .dataframe thead th {\n",
       "        text-align: right;\n",
       "    }\n",
       "</style>\n",
       "<table border=\"1\" class=\"dataframe\">\n",
       "  <thead>\n",
       "    <tr style=\"text-align: right;\">\n",
       "      <th></th>\n",
       "      <th>Age</th>\n",
       "      <th>PerfEval</th>\n",
       "      <th>Seniority</th>\n",
       "      <th>BasePay</th>\n",
       "      <th>Bonus</th>\n",
       "    </tr>\n",
       "  </thead>\n",
       "  <tbody>\n",
       "    <tr>\n",
       "      <th>count</th>\n",
       "      <td>1000.000000</td>\n",
       "      <td>1000.000000</td>\n",
       "      <td>1000.000000</td>\n",
       "      <td>1.000000e+03</td>\n",
       "      <td>1000.000000</td>\n",
       "    </tr>\n",
       "    <tr>\n",
       "      <th>mean</th>\n",
       "      <td>41.393000</td>\n",
       "      <td>3.037000</td>\n",
       "      <td>2.971000</td>\n",
       "      <td>1.133672e+06</td>\n",
       "      <td>6467.161000</td>\n",
       "    </tr>\n",
       "    <tr>\n",
       "      <th>std</th>\n",
       "      <td>14.294856</td>\n",
       "      <td>1.423959</td>\n",
       "      <td>1.395029</td>\n",
       "      <td>3.040499e+05</td>\n",
       "      <td>2004.377365</td>\n",
       "    </tr>\n",
       "    <tr>\n",
       "      <th>min</th>\n",
       "      <td>18.000000</td>\n",
       "      <td>1.000000</td>\n",
       "      <td>1.000000</td>\n",
       "      <td>4.104960e+05</td>\n",
       "      <td>1703.000000</td>\n",
       "    </tr>\n",
       "    <tr>\n",
       "      <th>25%</th>\n",
       "      <td>29.000000</td>\n",
       "      <td>2.000000</td>\n",
       "      <td>2.000000</td>\n",
       "      <td>9.222030e+05</td>\n",
       "      <td>4849.500000</td>\n",
       "    </tr>\n",
       "    <tr>\n",
       "      <th>50%</th>\n",
       "      <td>41.000000</td>\n",
       "      <td>3.000000</td>\n",
       "      <td>3.000000</td>\n",
       "      <td>1.119930e+06</td>\n",
       "      <td>6507.000000</td>\n",
       "    </tr>\n",
       "    <tr>\n",
       "      <th>75%</th>\n",
       "      <td>54.250000</td>\n",
       "      <td>4.000000</td>\n",
       "      <td>4.000000</td>\n",
       "      <td>1.338696e+06</td>\n",
       "      <td>8026.000000</td>\n",
       "    </tr>\n",
       "    <tr>\n",
       "      <th>max</th>\n",
       "      <td>65.000000</td>\n",
       "      <td>5.000000</td>\n",
       "      <td>5.000000</td>\n",
       "      <td>2.156712e+06</td>\n",
       "      <td>11293.000000</td>\n",
       "    </tr>\n",
       "  </tbody>\n",
       "</table>\n",
       "</div>"
      ],
      "text/plain": [
       "               Age     PerfEval    Seniority       BasePay         Bonus\n",
       "count  1000.000000  1000.000000  1000.000000  1.000000e+03   1000.000000\n",
       "mean     41.393000     3.037000     2.971000  1.133672e+06   6467.161000\n",
       "std      14.294856     1.423959     1.395029  3.040499e+05   2004.377365\n",
       "min      18.000000     1.000000     1.000000  4.104960e+05   1703.000000\n",
       "25%      29.000000     2.000000     2.000000  9.222030e+05   4849.500000\n",
       "50%      41.000000     3.000000     3.000000  1.119930e+06   6507.000000\n",
       "75%      54.250000     4.000000     4.000000  1.338696e+06   8026.000000\n",
       "max      65.000000     5.000000     5.000000  2.156712e+06  11293.000000"
      ]
     },
     "execution_count": 62,
     "metadata": {},
     "output_type": "execute_result"
    }
   ],
   "source": [
    "df.describe()"
   ]
  },
  {
   "cell_type": "code",
   "execution_count": 63,
   "id": "ca0edd67",
   "metadata": {
    "execution": {
     "iopub.execute_input": "2023-04-16T12:20:36.730377Z",
     "iopub.status.busy": "2023-04-16T12:20:36.729913Z",
     "iopub.status.idle": "2023-04-16T12:20:36.977327Z",
     "shell.execute_reply": "2023-04-16T12:20:36.976100Z"
    },
    "papermill": {
     "duration": 0.265164,
     "end_time": "2023-04-16T12:20:36.979949",
     "exception": false,
     "start_time": "2023-04-16T12:20:36.714785",
     "status": "completed"
    },
    "tags": []
   },
   "outputs": [
    {
     "data": {
      "image/png": "[encoded data removed]",
      "text/plain": [
       "<Figure size 500x400 with 1 Axes>"
      ]
     },
     "metadata": {},
     "output_type": "display_data"
    }
   ],
   "source": [
    "gender_distr = round(df.Gender.value_counts() / len(df) *100, ndigits=0)\n",
    "\n",
    "color = ['navy', 'coral']\n",
    "\n",
    "gender_distr.plot.bar(rot = 0 , ec = 'black',  figsize =(5,4), color=color)\n",
    "plt.title(\"\", size= 13, loc= 'left')\n",
    "plt. ylabel('Percentage', size=13)\n",
    "\n",
    "for i in range(len(gender_distr)):\n",
    "    plt.text(i, gender_distr[i], gender_distr[i], ha = 'center', va ='bottom')"
   ]
  },
  {
   "cell_type": "code",
   "execution_count": 64,
   "id": "e8f8dde1",
   "metadata": {
    "execution": {
     "iopub.execute_input": "2023-04-16T12:20:37.039924Z",
     "iopub.status.busy": "2023-04-16T12:20:37.038937Z",
     "iopub.status.idle": "2023-04-16T12:20:37.390078Z",
     "shell.execute_reply": "2023-04-16T12:20:37.388799Z"
    },
    "papermill": {
     "duration": 0.369848,
     "end_time": "2023-04-16T12:20:37.392863",
     "exception": false,
     "start_time": "2023-04-16T12:20:37.023015",
     "status": "completed"
    },
    "tags": []
   },
   "outputs": [
    {
     "data": {
      "image/png": "[encoded data removed]",
      "text/plain": [
       "<Figure size 500x400 with 1 Axes>"
      ]
     },
     "metadata": {},
     "output_type": "display_data"
    }
   ],
   "source": [
    "# Job Title Distribution\n",
    "plt.figure(figsize =(5,4))\n",
    "professions = df.groupby('JobTitle').count().sort_values(by ='Age')\n",
    "sb.barplot(data = professions , y = professions.index , x = 'Gender', palette= \"flare\", ec = 'black')\n",
    "plt.title('', size= 14);\n",
    "plt. xlabel('Count', size=14);"
   ]
  },
  {
   "cell_type": "code",
   "execution_count": 65,
   "id": "610869d8",
   "metadata": {
    "execution": {
     "iopub.execute_input": "2023-04-16T12:20:37.454978Z",
     "iopub.status.busy": "2023-04-16T12:20:37.454150Z",
     "iopub.status.idle": "2023-04-16T12:20:39.067243Z",
     "shell.execute_reply": "2023-04-16T12:20:39.066080Z"
    },
    "papermill": {
     "duration": 1.632017,
     "end_time": "2023-04-16T12:20:39.069827",
     "exception": false,
     "start_time": "2023-04-16T12:20:37.437810",
     "status": "completed"
    },
    "tags": []
   },
   "outputs": [
    {
     "data": {
      "application/vnd.plotly.v1+json": {
       "config": {
        "plotlyServerURL": "https://plot.ly"
       },
       "data": [
        {
         "marker": {
          "color": "navy"
         },
         "name": "Female",
         "type": "bar",
         "x": [
          "Data Scientist",
          "Driver",
          "Financial Analyst",
          "Graphic Designer",
          "IT",
          "Manager",
          "Marketing Associate",
          "Sales Associate",
          "Software Engineer",
          "Warehouse Associate"
         ],
         "y": [
          53,
          46,
          49,
          48,
          50,
          18,
          107,
          43,
          8,
          46
         ]
        },
        {
         "marker": {
          "color": "coral"
         },
         "name": "Male",
         "type": "bar",
         "x": [
          "Data Scientist",
          "Driver",
          "Financial Analyst",
          "Graphic Designer",
          "IT",
          "Manager",
          "Marketing Associate",
          "Sales Associate",
          "Software Engineer",
          "Warehouse Associate"
         ],
         "y": [
          54,
          45,
          58,
          50,
          46,
          72,
          11,
          51,
          101,
          44
         ]
        }
       ],
       "layout": {
        "barmode": "group",
        "height": 550,
        "template": {
         "data": {
          "bar": [
           {
            "error_x": {
             "color": "#2a3f5f"
            },
            "error_y": {
             "color": "#2a3f5f"
            },
            "marker": {
             "line": {
              "color": "#E5ECF6",
              "width": 0.5
             },
             "pattern": {
              "fillmode": "overlay",
              "size": 10,
              "solidity": 0.2
             }
            },
            "type": "bar"
           }
          ],
          "barpolar": [
           {
            "marker": {
             "line": {
              "color": "#E5ECF6",
              "width": 0.5
             },
             "pattern": {
              "fillmode": "overlay",
              "size": 10,
              "solidity": 0.2
             }
            },
            "type": "barpolar"
           }
          ],
          "carpet": [
           {
            "aaxis": {
             "endlinecolor": "#2a3f5f",
             "gridcolor": "white",
             "linecolor": "white",
             "minorgridcolor": "white",
             "startlinecolor": "#2a3f5f"
            },
            "baxis": {
             "endlinecolor": "#2a3f5f",
             "gridcolor": "white",
             "linecolor": "white",
             "minorgridcolor": "white",
             "startlinecolor": "#2a3f5f"
            },
            "type": "carpet"
           }
          ],
          "choropleth": [
           {
            "colorbar": {
             "outlinewidth": 0,
             "ticks": ""
            },
            "type": "choropleth"
           }
          ],
          "contour": [
           {
            "colorbar": {
             "outlinewidth": 0,
             "ticks": ""
            },
            "colorscale": [
             [
              0,
              "#0d0887"
             ],
             [
              0.1111111111111111,
              "#46039f"
             ],
             [
              0.2222222222222222,
              "#7201a8"
             ],
             [
              0.3333333333333333,
              "#9c179e"
             ],
             [
              0.4444444444444444,
              "#bd3786"
             ],
             [
              0.5555555555555556,
              "#d8576b"
             ],
             [
              0.6666666666666666,
              "#ed7953"
             ],
             [
              0.7777777777777778,
              "#fb9f3a"
             ],
             [
              0.8888888888888888,
              "#fdca26"
             ],
             [
              1,
              "#f0f921"
             ]
            ],
            "type": "contour"
           }
          ],
          "contourcarpet": [
           {
            "colorbar": {
             "outlinewidth": 0,
             "ticks": ""
            },
            "type": "contourcarpet"
           }
          ],
          "heatmap": [
           {
            "colorbar": {
             "outlinewidth": 0,
             "ticks": ""
            },
            "colorscale": [
             [
              0,
              "#0d0887"
             ],
             [
              0.1111111111111111,
              "#46039f"
             ],
             [
              0.2222222222222222,
              "#7201a8"
             ],
             [
              0.3333333333333333,
              "#9c179e"
             ],
             [
              0.4444444444444444,
              "#bd3786"
             ],
             [
              0.5555555555555556,
              "#d8576b"
             ],
             [
              0.6666666666666666,
              "#ed7953"
             ],
             [
              0.7777777777777778,
              "#fb9f3a"
             ],
             [
              0.8888888888888888,
              "#fdca26"
             ],
             [
              1,
              "#f0f921"
             ]
            ],
            "type": "heatmap"
           }
          ],
          "heatmapgl": [
           {
            "colorbar": {
             "outlinewidth": 0,
             "ticks": ""
            },
            "colorscale": [
             [
              0,
              "#0d0887"
             ],
             [
              0.1111111111111111,
              "#46039f"
             ],
             [
              0.2222222222222222,
              "#7201a8"
             ],
             [
              0.3333333333333333,
              "#9c179e"
             ],
             [
              0.4444444444444444,
              "#bd3786"
             ],
             [
              0.5555555555555556,
              "#d8576b"
             ],
             [
              0.6666666666666666,
              "#ed7953"
             ],
             [
              0.7777777777777778,
              "#fb9f3a"
             ],
             [
              0.8888888888888888,
              "#fdca26"
             ],
             [
              1,
              "#f0f921"
             ]
            ],
            "type": "heatmapgl"
           }
          ],
          "histogram": [
           {
            "marker": {
             "pattern": {
              "fillmode": "overlay",
              "size": 10,
              "solidity": 0.2
             }
            },
            "type": "histogram"
           }
          ],
          "histogram2d": [
           {
            "colorbar": {
             "outlinewidth": 0,
             "ticks": ""
            },
            "colorscale": [
             [
              0,
              "#0d0887"
             ],
             [
              0.1111111111111111,
              "#46039f"
             ],
             [
              0.2222222222222222,
              "#7201a8"
             ],
             [
              0.3333333333333333,
              "#9c179e"
             ],
             [
              0.4444444444444444,
              "#bd3786"
             ],
             [
              0.5555555555555556,
              "#d8576b"
             ],
             [
              0.6666666666666666,
              "#ed7953"
             ],
             [
              0.7777777777777778,
              "#fb9f3a"
             ],
             [
              0.8888888888888888,
              "#fdca26"
             ],
             [
              1,
              "#f0f921"
             ]
            ],
            "type": "histogram2d"
           }
          ],
          "histogram2dcontour": [
           {
            "colorbar": {
             "outlinewidth": 0,
             "ticks": ""
            },
            "colorscale": [
             [
              0,
              "#0d0887"
             ],
             [
              0.1111111111111111,
              "#46039f"
             ],
             [
              0.2222222222222222,
              "#7201a8"
             ],
             [
              0.3333333333333333,
              "#9c179e"
             ],
             [
              0.4444444444444444,
              "#bd3786"
             ],
             [
              0.5555555555555556,
              "#d8576b"
             ],
             [
              0.6666666666666666,
              "#ed7953"
             ],
             [
              0.7777777777777778,
              "#fb9f3a"
             ],
             [
              0.8888888888888888,
              "#fdca26"
             ],
             [
              1,
              "#f0f921"
             ]
            ],
            "type": "histogram2dcontour"
           }
          ],
          "mesh3d": [
           {
            "colorbar": {
             "outlinewidth": 0,
             "ticks": ""
            },
            "type": "mesh3d"
           }
          ],
          "parcoords": [
           {
            "line": {
             "colorbar": {
              "outlinewidth": 0,
              "ticks": ""
             }
            },
            "type": "parcoords"
           }
          ],
          "pie": [
           {
            "automargin": true,
            "type": "pie"
           }
          ],
          "scatter": [
           {
            "fillpattern": {
             "fillmode": "overlay",
             "size": 10,
             "solidity": 0.2
            },
            "type": "scatter"
           }
          ],
          "scatter3d": [
           {
            "line": {
             "colorbar": {
              "outlinewidth": 0,
              "ticks": ""
             }
            },
            "marker": {
             "colorbar": {
              "outlinewidth": 0,
              "ticks": ""
             }
            },
            "type": "scatter3d"
           }
          ],
          "scattercarpet": [
           {
            "marker": {
             "colorbar": {
              "outlinewidth": 0,
              "ticks": ""
             }
            },
            "type": "scattercarpet"
           }
          ],
          "scattergeo": [
           {
            "marker": {
             "colorbar": {
              "outlinewidth": 0,
              "ticks": ""
             }
            },
            "type": "scattergeo"
           }
          ],
          "scattergl": [
           {
            "marker": {
             "colorbar": {
              "outlinewidth": 0,
              "ticks": ""
             }
            },
            "type": "scattergl"
           }
          ],
          "scattermapbox": [
           {
            "marker": {
             "colorbar": {
              "outlinewidth": 0,
              "ticks": ""
             }
            },
            "type": "scattermapbox"
           }
          ],
          "scatterpolar": [
           {
            "marker": {
             "colorbar": {
              "outlinewidth": 0,
              "ticks": ""
             }
            },
            "type": "scatterpolar"
           }
          ],
          "scatterpolargl": [
           {
            "marker": {
             "colorbar": {
              "outlinewidth": 0,
              "ticks": ""
             }
            },
            "type": "scatterpolargl"
           }
          ],
          "scatterternary": [
           {
            "marker": {
             "colorbar": {
              "outlinewidth": 0,
              "ticks": ""
             }
            },
            "type": "scatterternary"
           }
          ],
          "surface": [
           {
            "colorbar": {
             "outlinewidth": 0,
             "ticks": ""
            },
            "colorscale": [
             [
              0,
              "#0d0887"
             ],
             [
              0.1111111111111111,
              "#46039f"
             ],
             [
              0.2222222222222222,
              "#7201a8"
             ],
             [
              0.3333333333333333,
              "#9c179e"
             ],
             [
              0.4444444444444444,
              "#bd3786"
             ],
             [
              0.5555555555555556,
              "#d8576b"
             ],
             [
              0.6666666666666666,
              "#ed7953"
             ],
             [
              0.7777777777777778,
              "#fb9f3a"
             ],
             [
              0.8888888888888888,
              "#fdca26"
             ],
             [
              1,
              "#f0f921"
             ]
            ],
            "type": "surface"
           }
          ],
          "table": [
           {
            "cells": {
             "fill": {
              "color": "#EBF0F8"
             },
             "line": {
              "color": "white"
             }
            },
            "header": {
             "fill": {
              "color": "#C8D4E3"
             },
             "line": {
              "color": "white"
             }
            },
            "type": "table"
           }
          ]
         },
         "layout": {
          "annotationdefaults": {
           "arrowcolor": "#2a3f5f",
           "arrowhead": 0,
           "arrowwidth": 1
          },
          "autotypenumbers": "strict",
          "coloraxis": {
           "colorbar": {
            "outlinewidth": 0,
            "ticks": ""
           }
          },
          "colorscale": {
           "diverging": [
            [
             0,
             "#8e0152"
            ],
            [
             0.1,
             "#c51b7d"
            ],
            [
             0.2,
             "#de77ae"
            ],
            [
             0.3,
             "#f1b6da"
            ],
            [
             0.4,
             "#fde0ef"
            ],
            [
             0.5,
             "#f7f7f7"
            ],
            [
             0.6,
             "#e6f5d0"
            ],
            [
             0.7,
             "#b8e186"
            ],
            [
             0.8,
             "#7fbc41"
            ],
            [
             0.9,
             "#4d9221"
            ],
            [
             1,
             "#276419"
            ]
           ],
           "sequential": [
            [
             0,
             "#0d0887"
            ],
            [
             0.1111111111111111,
             "#46039f"
            ],
            [
             0.2222222222222222,
             "#7201a8"
            ],
            [
             0.3333333333333333,
             "#9c179e"
            ],
            [
             0.4444444444444444,
             "#bd3786"
            ],
            [
             0.5555555555555556,
             "#d8576b"
            ],
            [
             0.6666666666666666,
             "#ed7953"
            ],
            [
             0.7777777777777778,
             "#fb9f3a"
            ],
            [
             0.8888888888888888,
             "#fdca26"
            ],
            [
             1,
             "#f0f921"
            ]
           ],
           "sequentialminus": [
            [
             0,
             "#0d0887"
            ],
            [
             0.1111111111111111,
             "#46039f"
            ],
            [
             0.2222222222222222,
             "#7201a8"
            ],
            [
             0.3333333333333333,
             "#9c179e"
            ],
            [
             0.4444444444444444,
             "#bd3786"
            ],
            [
             0.5555555555555556,
             "#d8576b"
            ],
            [
             0.6666666666666666,
             "#ed7953"
            ],
            [
             0.7777777777777778,
             "#fb9f3a"
            ],
            [
             0.8888888888888888,
             "#fdca26"
            ],
            [
             1,
             "#f0f921"
            ]
           ]
          },
          "colorway": [
           "#636efa",
           "#EF553B",
           "#00cc96",
           "#ab63fa",
           "#FFA15A",
           "#19d3f3",
           "#FF6692",
           "#B6E880",
           "#FF97FF",
           "#FECB52"
          ],
          "font": {
           "color": "#2a3f5f"
          },
          "geo": {
           "bgcolor": "white",
           "lakecolor": "white",
           "landcolor": "#E5ECF6",
           "showlakes": true,
           "showland": true,
           "subunitcolor": "white"
          },
          "hoverlabel": {
           "align": "left"
          },
          "hovermode": "closest",
          "mapbox": {
           "style": "light"
          },
          "paper_bgcolor": "white",
          "plot_bgcolor": "#E5ECF6",
          "polar": {
           "angularaxis": {
            "gridcolor": "white",
            "linecolor": "white",
            "ticks": ""
           },
           "bgcolor": "#E5ECF6",
           "radialaxis": {
            "gridcolor": "white",
            "linecolor": "white",
            "ticks": ""
           }
          },
          "scene": {
           "xaxis": {
            "backgroundcolor": "#E5ECF6",
            "gridcolor": "white",
            "gridwidth": 2,
            "linecolor": "white",
            "showbackground": true,
            "ticks": "",
            "zerolinecolor": "white"
           },
           "yaxis": {
            "backgroundcolor": "#E5ECF6",
            "gridcolor": "white",
            "gridwidth": 2,
            "linecolor": "white",
            "showbackground": true,
            "ticks": "",
            "zerolinecolor": "white"
           },
           "zaxis": {
            "backgroundcolor": "#E5ECF6",
            "gridcolor": "white",
            "gridwidth": 2,
            "linecolor": "white",
            "showbackground": true,
            "ticks": "",
            "zerolinecolor": "white"
           }
          },
          "shapedefaults": {
           "line": {
            "color": "#2a3f5f"
           }
          },
          "ternary": {
           "aaxis": {
            "gridcolor": "white",
            "linecolor": "white",
            "ticks": ""
           },
           "baxis": {
            "gridcolor": "white",
            "linecolor": "white",
            "ticks": ""
           },
           "bgcolor": "#E5ECF6",
           "caxis": {
            "gridcolor": "white",
            "linecolor": "white",
            "ticks": ""
           }
          },
          "title": {
           "x": 0.05
          },
          "xaxis": {
           "automargin": true,
           "gridcolor": "white",
           "linecolor": "white",
           "ticks": "",
           "title": {
            "standoff": 15
           },
           "zerolinecolor": "white",
           "zerolinewidth": 2
          },
          "yaxis": {
           "automargin": true,
           "gridcolor": "white",
           "linecolor": "white",
           "ticks": "",
           "title": {
            "standoff": 15
           },
           "zerolinecolor": "white",
           "zerolinewidth": 2
          }
         }
        },
        "title": {
         "text": ""
        },
        "width": 820,
        "xaxis": {
         "title": {
          "text": "Job Title"
         }
        },
        "yaxis": {
         "title": {
          "text": "Count"
         }
        }
       }
      }
     },
     "metadata": {},
     "output_type": "display_data"
    }
   ],
   "source": [
    "# Job Title Distribution by Gender\n",
    "Job_by_gender = pd.crosstab(df['JobTitle'], df['Gender']).reset_index()\n",
    "\n",
    "# Initialize a figure\n",
    "fig = go.Figure()\n",
    "\n",
    "# Add traces for each gender\n",
    "for gender, color in zip(['Female', 'Male'], ['navy', 'coral']):\n",
    "    fig.add_trace(go.Bar(\n",
    "        x=Job_by_gender['JobTitle'],\n",
    "        y=Job_by_gender[gender],\n",
    "        name=gender,\n",
    "        marker_color=color\n",
    "    ))\n",
    "\n",
    "# Update the layout\n",
    "fig.update_layout(\n",
    "    barmode='group',\n",
    "    title=\"\",\n",
    "    xaxis_title=\"Job Title\",\n",
    "    yaxis_title=\"Count\",\n",
    "    width=820,\n",
    "    height=550\n",
    ")\n",
    "\n",
    "fig.show()"
   ]
  },
  {
   "cell_type": "code",
   "execution_count": 66,
   "id": "32003796",
   "metadata": {
    "execution": {
     "iopub.execute_input": "2023-04-16T12:20:39.133521Z",
     "iopub.status.busy": "2023-04-16T12:20:39.132793Z",
     "iopub.status.idle": "2023-04-16T12:20:39.765055Z",
     "shell.execute_reply": "2023-04-16T12:20:39.763866Z"
    },
    "papermill": {
     "duration": 0.651397,
     "end_time": "2023-04-16T12:20:39.767414",
     "exception": false,
     "start_time": "2023-04-16T12:20:39.116017",
     "status": "completed"
    },
    "tags": []
   },
   "outputs": [
    {
     "data": {
      "image/png": "[encoded data removed]",
      "text/plain": [
       "<Figure size 640x480 with 1 Axes>"
      ]
     },
     "metadata": {},
     "output_type": "display_data"
    },
    {
     "data": {
      "image/png": "[encoded data removed]",
      "text/plain": [
       "<Figure size 640x480 with 1 Axes>"
      ]
     },
     "metadata": {},
     "output_type": "display_data"
    }
   ],
   "source": [
    "# Distribution of Educational Levels by Gender - PIE CHART\n",
    "\n",
    "edu_by_gender = pd.crosstab(df['Education'], df['Gender'], normalize=False , margins=False)\n",
    "\n",
    "colors = ['gold', 'blue', 'red', 'turquoise', 'purple', 'orange'] # Add more colors if you have more categories\n",
    "\n",
    "explode = (0.03, 0.03, 0.03, 0.03)\n",
    "\n",
    "# Plotting for Female\n",
    "edu_by_gender.plot.pie(y='Female', autopct=\"%.1f%%\", explode=explode, colors=colors)\n",
    "plt.legend(loc='best', fontsize='small')\n",
    "\n",
    "circle = plt.Circle((0, 0), 0.5, facecolor='white')\n",
    "plt.gca().add_artist(circle)\n",
    "\n",
    "plt.title(\"\", size=20)\n",
    "plt.show()  # Show the first plot\n",
    "\n",
    "# Plotting for Male\n",
    "edu_by_gender.plot.pie(y='Male', autopct=\"%.1f%%\", explode=explode, colors=colors)\n",
    "plt.legend(loc='best', fontsize='small')\n",
    "\n",
    "circle = plt.Circle((0, 0), 0.5, facecolor='white')\n",
    "plt.gca().add_artist(circle)\n",
    "\n",
    "plt.title(\"\", size=20)\n",
    "plt.show()  # Show the second plot"
   ]
  },
  {
   "cell_type": "code",
   "execution_count": 67,
   "id": "fd52511c",
   "metadata": {
    "execution": {
     "iopub.execute_input": "2023-04-16T12:20:39.837678Z",
     "iopub.status.busy": "2023-04-16T12:20:39.837021Z",
     "iopub.status.idle": "2023-04-16T12:20:39.911633Z",
     "shell.execute_reply": "2023-04-16T12:20:39.910629Z"
    },
    "papermill": {
     "duration": 0.095343,
     "end_time": "2023-04-16T12:20:39.913934",
     "exception": false,
     "start_time": "2023-04-16T12:20:39.818591",
     "status": "completed"
    },
    "tags": []
   },
   "outputs": [
    {
     "data": {
      "application/vnd.plotly.v1+json": {
       "config": {
        "plotlyServerURL": "https://plot.ly"
       },
       "data": [
        {
         "marker": {
          "color": "navy"
         },
         "name": "Female",
         "type": "bar",
         "x": [
          "Administration",
          "Engineering",
          "Management",
          "Operations",
          "Sales"
         ],
         "y": [
          95,
          89,
          87,
          96,
          101
         ]
        },
        {
         "marker": {
          "color": "coral"
         },
         "name": "Male",
         "type": "bar",
         "x": [
          "Administration",
          "Engineering",
          "Management",
          "Operations",
          "Sales"
         ],
         "y": [
          98,
          103,
          111,
          114,
          106
         ]
        }
       ],
       "layout": {
        "barmode": "group",
        "height": 500,
        "template": {
         "data": {
          "bar": [
           {
            "error_x": {
             "color": "#2a3f5f"
            },
            "error_y": {
             "color": "#2a3f5f"
            },
            "marker": {
             "line": {
              "color": "#E5ECF6",
              "width": 0.5
             },
             "pattern": {
              "fillmode": "overlay",
              "size": 10,
              "solidity": 0.2
             }
            },
            "type": "bar"
           }
          ],
          "barpolar": [
           {
            "marker": {
             "line": {
              "color": "#E5ECF6",
              "width": 0.5
             },
             "pattern": {
              "fillmode": "overlay",
              "size": 10,
              "solidity": 0.2
             }
            },
            "type": "barpolar"
           }
          ],
          "carpet": [
           {
            "aaxis": {
             "endlinecolor": "#2a3f5f",
             "gridcolor": "white",
             "linecolor": "white",
             "minorgridcolor": "white",
             "startlinecolor": "#2a3f5f"
            },
            "baxis": {
             "endlinecolor": "#2a3f5f",
             "gridcolor": "white",
             "linecolor": "white",
             "minorgridcolor": "white",
             "startlinecolor": "#2a3f5f"
            },
            "type": "carpet"
           }
          ],
          "choropleth": [
           {
            "colorbar": {
             "outlinewidth": 0,
             "ticks": ""
            },
            "type": "choropleth"
           }
          ],
          "contour": [
           {
            "colorbar": {
             "outlinewidth": 0,
             "ticks": ""
            },
            "colorscale": [
             [
              0,
              "#0d0887"
             ],
             [
              0.1111111111111111,
              "#46039f"
             ],
             [
              0.2222222222222222,
              "#7201a8"
             ],
             [
              0.3333333333333333,
              "#9c179e"
             ],
             [
              0.4444444444444444,
              "#bd3786"
             ],
             [
              0.5555555555555556,
              "#d8576b"
             ],
             [
              0.6666666666666666,
              "#ed7953"
             ],
             [
              0.7777777777777778,
              "#fb9f3a"
             ],
             [
              0.8888888888888888,
              "#fdca26"
             ],
             [
              1,
              "#f0f921"
             ]
            ],
            "type": "contour"
           }
          ],
          "contourcarpet": [
           {
            "colorbar": {
             "outlinewidth": 0,
             "ticks": ""
            },
            "type": "contourcarpet"
           }
          ],
          "heatmap": [
           {
            "colorbar": {
             "outlinewidth": 0,
             "ticks": ""
            },
            "colorscale": [
             [
              0,
              "#0d0887"
             ],
             [
              0.1111111111111111,
              "#46039f"
             ],
             [
              0.2222222222222222,
              "#7201a8"
             ],
             [
              0.3333333333333333,
              "#9c179e"
             ],
             [
              0.4444444444444444,
              "#bd3786"
             ],
             [
              0.5555555555555556,
              "#d8576b"
             ],
             [
              0.6666666666666666,
              "#ed7953"
             ],
             [
              0.7777777777777778,
              "#fb9f3a"
             ],
             [
              0.8888888888888888,
              "#fdca26"
             ],
             [
              1,
              "#f0f921"
             ]
            ],
            "type": "heatmap"
           }
          ],
          "heatmapgl": [
           {
            "colorbar": {
             "outlinewidth": 0,
             "ticks": ""
            },
            "colorscale": [
             [
              0,
              "#0d0887"
             ],
             [
              0.1111111111111111,
              "#46039f"
             ],
             [
              0.2222222222222222,
              "#7201a8"
             ],
             [
              0.3333333333333333,
              "#9c179e"
             ],
             [
              0.4444444444444444,
              "#bd3786"
             ],
             [
              0.5555555555555556,
              "#d8576b"
             ],
             [
              0.6666666666666666,
              "#ed7953"
             ],
             [
              0.7777777777777778,
              "#fb9f3a"
             ],
             [
              0.8888888888888888,
              "#fdca26"
             ],
             [
              1,
              "#f0f921"
             ]
            ],
            "type": "heatmapgl"
           }
          ],
          "histogram": [
           {
            "marker": {
             "pattern": {
              "fillmode": "overlay",
              "size": 10,
              "solidity": 0.2
             }
            },
            "type": "histogram"
           }
          ],
          "histogram2d": [
           {
            "colorbar": {
             "outlinewidth": 0,
             "ticks": ""
            },
            "colorscale": [
             [
              0,
              "#0d0887"
             ],
             [
              0.1111111111111111,
              "#46039f"
             ],
             [
              0.2222222222222222,
              "#7201a8"
             ],
             [
              0.3333333333333333,
              "#9c179e"
             ],
             [
              0.4444444444444444,
              "#bd3786"
             ],
             [
              0.5555555555555556,
              "#d8576b"
             ],
             [
              0.6666666666666666,
              "#ed7953"
             ],
             [
              0.7777777777777778,
              "#fb9f3a"
             ],
             [
              0.8888888888888888,
              "#fdca26"
             ],
             [
              1,
              "#f0f921"
             ]
            ],
            "type": "histogram2d"
           }
          ],
          "histogram2dcontour": [
           {
            "colorbar": {
             "outlinewidth": 0,
             "ticks": ""
            },
            "colorscale": [
             [
              0,
              "#0d0887"
             ],
             [
              0.1111111111111111,
              "#46039f"
             ],
             [
              0.2222222222222222,
              "#7201a8"
             ],
             [
              0.3333333333333333,
              "#9c179e"
             ],
             [
              0.4444444444444444,
              "#bd3786"
             ],
             [
              0.5555555555555556,
              "#d8576b"
             ],
             [
              0.6666666666666666,
              "#ed7953"
             ],
             [
              0.7777777777777778,
              "#fb9f3a"
             ],
             [
              0.8888888888888888,
              "#fdca26"
             ],
             [
              1,
              "#f0f921"
             ]
            ],
            "type": "histogram2dcontour"
           }
          ],
          "mesh3d": [
           {
            "colorbar": {
             "outlinewidth": 0,
             "ticks": ""
            },
            "type": "mesh3d"
           }
          ],
          "parcoords": [
           {
            "line": {
             "colorbar": {
              "outlinewidth": 0,
              "ticks": ""
             }
            },
            "type": "parcoords"
           }
          ],
          "pie": [
           {
            "automargin": true,
            "type": "pie"
           }
          ],
          "scatter": [
           {
            "fillpattern": {
             "fillmode": "overlay",
             "size": 10,
             "solidity": 0.2
            },
            "type": "scatter"
           }
          ],
          "scatter3d": [
           {
            "line": {
             "colorbar": {
              "outlinewidth": 0,
              "ticks": ""
             }
            },
            "marker": {
             "colorbar": {
              "outlinewidth": 0,
              "ticks": ""
             }
            },
            "type": "scatter3d"
           }
          ],
          "scattercarpet": [
           {
            "marker": {
             "colorbar": {
              "outlinewidth": 0,
              "ticks": ""
             }
            },
            "type": "scattercarpet"
           }
          ],
          "scattergeo": [
           {
            "marker": {
             "colorbar": {
              "outlinewidth": 0,
              "ticks": ""
             }
            },
            "type": "scattergeo"
           }
          ],
          "scattergl": [
           {
            "marker": {
             "colorbar": {
              "outlinewidth": 0,
              "ticks": ""
             }
            },
            "type": "scattergl"
           }
          ],
          "scattermapbox": [
           {
            "marker": {
             "colorbar": {
              "outlinewidth": 0,
              "ticks": ""
             }
            },
            "type": "scattermapbox"
           }
          ],
          "scatterpolar": [
           {
            "marker": {
             "colorbar": {
              "outlinewidth": 0,
              "ticks": ""
             }
            },
            "type": "scatterpolar"
           }
          ],
          "scatterpolargl": [
           {
            "marker": {
             "colorbar": {
              "outlinewidth": 0,
              "ticks": ""
             }
            },
            "type": "scatterpolargl"
           }
          ],
          "scatterternary": [
           {
            "marker": {
             "colorbar": {
              "outlinewidth": 0,
              "ticks": ""
             }
            },
            "type": "scatterternary"
           }
          ],
          "surface": [
           {
            "colorbar": {
             "outlinewidth": 0,
             "ticks": ""
            },
            "colorscale": [
             [
              0,
              "#0d0887"
             ],
             [
              0.1111111111111111,
              "#46039f"
             ],
             [
              0.2222222222222222,
              "#7201a8"
             ],
             [
              0.3333333333333333,
              "#9c179e"
             ],
             [
              0.4444444444444444,
              "#bd3786"
             ],
             [
              0.5555555555555556,
              "#d8576b"
             ],
             [
              0.6666666666666666,
              "#ed7953"
             ],
             [
              0.7777777777777778,
              "#fb9f3a"
             ],
             [
              0.8888888888888888,
              "#fdca26"
             ],
             [
              1,
              "#f0f921"
             ]
            ],
            "type": "surface"
           }
          ],
          "table": [
           {
            "cells": {
             "fill": {
              "color": "#EBF0F8"
             },
             "line": {
              "color": "white"
             }
            },
            "header": {
             "fill": {
              "color": "#C8D4E3"
             },
             "line": {
              "color": "white"
             }
            },
            "type": "table"
           }
          ]
         },
         "layout": {
          "annotationdefaults": {
           "arrowcolor": "#2a3f5f",
           "arrowhead": 0,
           "arrowwidth": 1
          },
          "autotypenumbers": "strict",
          "coloraxis": {
           "colorbar": {
            "outlinewidth": 0,
            "ticks": ""
           }
          },
          "colorscale": {
           "diverging": [
            [
             0,
             "#8e0152"
            ],
            [
             0.1,
             "#c51b7d"
            ],
            [
             0.2,
             "#de77ae"
            ],
            [
             0.3,
             "#f1b6da"
            ],
            [
             0.4,
             "#fde0ef"
            ],
            [
             0.5,
             "#f7f7f7"
            ],
            [
             0.6,
             "#e6f5d0"
            ],
            [
             0.7,
             "#b8e186"
            ],
            [
             0.8,
             "#7fbc41"
            ],
            [
             0.9,
             "#4d9221"
            ],
            [
             1,
             "#276419"
            ]
           ],
           "sequential": [
            [
             0,
             "#0d0887"
            ],
            [
             0.1111111111111111,
             "#46039f"
            ],
            [
             0.2222222222222222,
             "#7201a8"
            ],
            [
             0.3333333333333333,
             "#9c179e"
            ],
            [
             0.4444444444444444,
             "#bd3786"
            ],
            [
             0.5555555555555556,
             "#d8576b"
            ],
            [
             0.6666666666666666,
             "#ed7953"
            ],
            [
             0.7777777777777778,
             "#fb9f3a"
            ],
            [
             0.8888888888888888,
             "#fdca26"
            ],
            [
             1,
             "#f0f921"
            ]
           ],
           "sequentialminus": [
            [
             0,
             "#0d0887"
            ],
            [
             0.1111111111111111,
             "#46039f"
            ],
            [
             0.2222222222222222,
             "#7201a8"
            ],
            [
             0.3333333333333333,
             "#9c179e"
            ],
            [
             0.4444444444444444,
             "#bd3786"
            ],
            [
             0.5555555555555556,
             "#d8576b"
            ],
            [
             0.6666666666666666,
             "#ed7953"
            ],
            [
             0.7777777777777778,
             "#fb9f3a"
            ],
            [
             0.8888888888888888,
             "#fdca26"
            ],
            [
             1,
             "#f0f921"
            ]
           ]
          },
          "colorway": [
           "#636efa",
           "#EF553B",
           "#00cc96",
           "#ab63fa",
           "#FFA15A",
           "#19d3f3",
           "#FF6692",
           "#B6E880",
           "#FF97FF",
           "#FECB52"
          ],
          "font": {
           "color": "#2a3f5f"
          },
          "geo": {
           "bgcolor": "white",
           "lakecolor": "white",
           "landcolor": "#E5ECF6",
           "showlakes": true,
           "showland": true,
           "subunitcolor": "white"
          },
          "hoverlabel": {
           "align": "left"
          },
          "hovermode": "closest",
          "mapbox": {
           "style": "light"
          },
          "paper_bgcolor": "white",
          "plot_bgcolor": "#E5ECF6",
          "polar": {
           "angularaxis": {
            "gridcolor": "white",
            "linecolor": "white",
            "ticks": ""
           },
           "bgcolor": "#E5ECF6",
           "radialaxis": {
            "gridcolor": "white",
            "linecolor": "white",
            "ticks": ""
           }
          },
          "scene": {
           "xaxis": {
            "backgroundcolor": "#E5ECF6",
            "gridcolor": "white",
            "gridwidth": 2,
            "linecolor": "white",
            "showbackground": true,
            "ticks": "",
            "zerolinecolor": "white"
           },
           "yaxis": {
            "backgroundcolor": "#E5ECF6",
            "gridcolor": "white",
            "gridwidth": 2,
            "linecolor": "white",
            "showbackground": true,
            "ticks": "",
            "zerolinecolor": "white"
           },
           "zaxis": {
            "backgroundcolor": "#E5ECF6",
            "gridcolor": "white",
            "gridwidth": 2,
            "linecolor": "white",
            "showbackground": true,
            "ticks": "",
            "zerolinecolor": "white"
           }
          },
          "shapedefaults": {
           "line": {
            "color": "#2a3f5f"
           }
          },
          "ternary": {
           "aaxis": {
            "gridcolor": "white",
            "linecolor": "white",
            "ticks": ""
           },
           "baxis": {
            "gridcolor": "white",
            "linecolor": "white",
            "ticks": ""
           },
           "bgcolor": "#E5ECF6",
           "caxis": {
            "gridcolor": "white",
            "linecolor": "white",
            "ticks": ""
           }
          },
          "title": {
           "x": 0.05
          },
          "xaxis": {
           "automargin": true,
           "gridcolor": "white",
           "linecolor": "white",
           "ticks": "",
           "title": {
            "standoff": 15
           },
           "zerolinecolor": "white",
           "zerolinewidth": 2
          },
          "yaxis": {
           "automargin": true,
           "gridcolor": "white",
           "linecolor": "white",
           "ticks": "",
           "title": {
            "standoff": 15
           },
           "zerolinecolor": "white",
           "zerolinewidth": 2
          }
         }
        },
        "width": 700,
        "xaxis": {
         "title": {
          "text": "Department"
         }
        },
        "yaxis": {
         "title": {
          "text": "Count"
         }
        }
       }
      }
     },
     "metadata": {},
     "output_type": "display_data"
    }
   ],
   "source": [
    "# Distribution of Gender by Department\n",
    "dept_distr = df.pivot_table(index='Dept', columns='Gender', values='BasePay', aggfunc='count')\n",
    "\n",
    "# Create the pivot table\n",
    "dept_distr = df.pivot_table(index='Dept', columns='Gender', values='BasePay', aggfunc='count').reset_index()\n",
    "\n",
    "# Define colors for each gender\n",
    "colors = {'Female': 'navy', 'Male': 'coral'}\n",
    "\n",
    "# Initialize a figure\n",
    "fig = go.Figure()\n",
    "\n",
    "# Add traces for each gender\n",
    "for gender in dept_distr.columns[1:]:  # Assuming first column is 'Dept' and others are genders\n",
    "    fig.add_trace(go.Bar(\n",
    "        x=dept_distr['Dept'],\n",
    "        y=dept_distr[gender],\n",
    "        name=gender,\n",
    "        marker_color=colors[gender]\n",
    "    ))\n",
    "\n",
    "# Update the layout\n",
    "fig.update_layout(\n",
    "    barmode='group',\n",
    "    xaxis_title=\"Department\",\n",
    "    yaxis_title=\"Count\",\n",
    "    width=700,\n",
    "    height=500\n",
    ")\n",
    "\n",
    "fig.show()\n"
   ]
  },
  {
   "cell_type": "code",
   "execution_count": 68,
   "id": "a0f9a2b1",
   "metadata": {
    "execution": {
     "iopub.execute_input": "2023-04-16T12:20:39.985105Z",
     "iopub.status.busy": "2023-04-16T12:20:39.984418Z",
     "iopub.status.idle": "2023-04-16T12:20:39.995477Z",
     "shell.execute_reply": "2023-04-16T12:20:39.994200Z"
    },
    "papermill": {
     "duration": 0.033014,
     "end_time": "2023-04-16T12:20:39.997931",
     "exception": false,
     "start_time": "2023-04-16T12:20:39.964917",
     "status": "completed"
    },
    "tags": []
   },
   "outputs": [
    {
     "name": "stdout",
     "output_type": "stream",
     "text": [
      "Average Number of Years Worked\n"
     ]
    },
    {
     "data": {
      "text/plain": [
       "Gender\n",
       "Female    3.012821\n",
       "Male      2.934211\n",
       "Name: Seniority, dtype: float64"
      ]
     },
     "execution_count": 68,
     "metadata": {},
     "output_type": "execute_result"
    }
   ],
   "source": [
    "# Mean Seniority (No. of Years Worked) by Gender.\n",
    "print(\"Average Number of Years Worked\")\n",
    "df.groupby('Gender')['Seniority'].mean()"
   ]
  },
  {
   "cell_type": "markdown",
   "id": "c4652bbd",
   "metadata": {},
   "source": []
  },
  {
   "cell_type": "code",
   "execution_count": 69,
   "id": "5b108fcc",
   "metadata": {
    "execution": {
     "iopub.execute_input": "2023-04-16T12:20:40.101784Z",
     "iopub.status.busy": "2023-04-16T12:20:40.101410Z",
     "iopub.status.idle": "2023-04-16T12:20:40.500810Z",
     "shell.execute_reply": "2023-04-16T12:20:40.499544Z"
    },
    "papermill": {
     "duration": 0.421454,
     "end_time": "2023-04-16T12:20:40.504157",
     "exception": false,
     "start_time": "2023-04-16T12:20:40.082703",
     "status": "completed"
    },
    "tags": []
   },
   "outputs": [
    {
     "data": {
      "image/png": "[encoded data removed]",
      "text/plain": [
       "<Figure size 640x480 with 1 Axes>"
      ]
     },
     "metadata": {},
     "output_type": "display_data"
    }
   ],
   "source": [
    "# Distribution of BasePay by Gender - Density Plot\n",
    "\n",
    "# Define your color palette here\n",
    "palette = {\"Male\": \"red\", \"Female\": \"yellow\"}\n",
    "\n",
    "# Create the KDE plot\n",
    "sb.kdeplot(x='BasePay', hue='Gender', data=df, fill=True, ec='black', palette=palette)\n",
    "plt.title('', size=14)\n",
    "plt.show()"
   ]
  },
  {
   "cell_type": "code",
   "execution_count": 70,
   "id": "fd90454f",
   "metadata": {},
   "outputs": [
    {
     "data": {
      "image/png": "[encoded data removed]",
      "text/plain": [
       "<Figure size 640x480 with 1 Axes>"
      ]
     },
     "metadata": {},
     "output_type": "display_data"
    }
   ],
   "source": [
    "# Filter the DataFrame for software engineering positions\n",
    "software_engineering_df = df[df['JobTitle'] == 'Software Engineer']\n",
    "\n",
    "# Define your color palette here\n",
    "palette = {\"Male\": \"red\", \"Female\": \"yellow\"}\n",
    "\n",
    "# Create the KDE plot for software engineering positions\n",
    "sb.kdeplot(x='BasePay', hue='Gender', data=software_engineering_df, fill=True, ec='black', palette=palette)\n",
    "plt.title('Plot of BasePay for SDE', size=14)\n",
    "plt.show()\n"
   ]
  },
  {
   "cell_type": "code",
   "execution_count": 71,
   "id": "e68bfed9",
   "metadata": {},
   "outputs": [
    {
     "data": {
      "image/png": "[encoded data removed]",
      "text/plain": [
       "<Figure size 640x480 with 1 Axes>"
      ]
     },
     "metadata": {},
     "output_type": "display_data"
    }
   ],
   "source": [
    "# Filter the DataFrame for Marketing Associate positions\n",
    "marketing_associate_df = df[df['JobTitle'] == 'Marketing Associate']\n",
    "\n",
    "# Define your color palette here\n",
    "palette = {\"Male\": \"red\", \"Female\": \"yellow\"}\n",
    "\n",
    "# Create the KDE plot for Marketing Associate positions\n",
    "sb.kdeplot(x='BasePay', hue='Gender', data=marketing_associate_df, fill=True, ec='black', palette=palette)\n",
    "plt.title('Plot of BasePay for Marketing Assc.', size=14)\n",
    "plt.show()"
   ]
  },
  {
   "cell_type": "code",
   "execution_count": 72,
   "id": "58be011e",
   "metadata": {
    "execution": {
     "iopub.execute_input": "2023-04-16T12:20:40.580349Z",
     "iopub.status.busy": "2023-04-16T12:20:40.579606Z",
     "iopub.status.idle": "2023-04-16T12:20:40.660412Z",
     "shell.execute_reply": "2023-04-16T12:20:40.659112Z"
    },
    "papermill": {
     "duration": 0.103262,
     "end_time": "2023-04-16T12:20:40.662983",
     "exception": false,
     "start_time": "2023-04-16T12:20:40.559721",
     "status": "completed"
    },
    "tags": []
   },
   "outputs": [
    {
     "data": {
      "application/vnd.plotly.v1+json": {
       "config": {
        "plotlyServerURL": "https://plot.ly"
       },
       "data": [
        {
         "marker": {
          "color": "navy"
         },
         "name": "Male",
         "type": "bar",
         "x": [
          "Data Scientist",
          "Driver",
          "Financial Analyst",
          "Graphic Designer",
          "IT",
          "Manager",
          "Marketing Associate",
          "Sales Associate",
          "Software Engineer",
          "Warehouse Associate"
         ],
         "y": [
          1070671.56,
          1103432,
          1135284.41,
          1075149.6,
          1092263.74,
          1498187.17,
          982581.82,
          1135957.41,
          1276457.82,
          1038641.18
         ]
        },
        {
         "marker": {
          "color": "coral"
         },
         "name": "Female",
         "type": "bar",
         "x": [
          "Data Scientist",
          "Driver",
          "Financial Analyst",
          "Graphic Designer",
          "IT",
          "Manager",
          "Marketing Associate",
          "Sales Associate",
          "Software Engineer",
          "Warehouse Associate"
         ],
         "y": [
          1148457.51,
          1042411.57,
          1145499.92,
          1106919.5,
          1085708.64,
          1527027.33,
          913430.13,
          1102730.51,
          1136412,
          1109139.13
         ]
        }
       ],
       "layout": {
        "barmode": "group",
        "height": 550,
        "template": {
         "data": {
          "bar": [
           {
            "error_x": {
             "color": "#2a3f5f"
            },
            "error_y": {
             "color": "#2a3f5f"
            },
            "marker": {
             "line": {
              "color": "#E5ECF6",
              "width": 0.5
             },
             "pattern": {
              "fillmode": "overlay",
              "size": 10,
              "solidity": 0.2
             }
            },
            "type": "bar"
           }
          ],
          "barpolar": [
           {
            "marker": {
             "line": {
              "color": "#E5ECF6",
              "width": 0.5
             },
             "pattern": {
              "fillmode": "overlay",
              "size": 10,
              "solidity": 0.2
             }
            },
            "type": "barpolar"
           }
          ],
          "carpet": [
           {
            "aaxis": {
             "endlinecolor": "#2a3f5f",
             "gridcolor": "white",
             "linecolor": "white",
             "minorgridcolor": "white",
             "startlinecolor": "#2a3f5f"
            },
            "baxis": {
             "endlinecolor": "#2a3f5f",
             "gridcolor": "white",
             "linecolor": "white",
             "minorgridcolor": "white",
             "startlinecolor": "#2a3f5f"
            },
            "type": "carpet"
           }
          ],
          "choropleth": [
           {
            "colorbar": {
             "outlinewidth": 0,
             "ticks": ""
            },
            "type": "choropleth"
           }
          ],
          "contour": [
           {
            "colorbar": {
             "outlinewidth": 0,
             "ticks": ""
            },
            "colorscale": [
             [
              0,
              "#0d0887"
             ],
             [
              0.1111111111111111,
              "#46039f"
             ],
             [
              0.2222222222222222,
              "#7201a8"
             ],
             [
              0.3333333333333333,
              "#9c179e"
             ],
             [
              0.4444444444444444,
              "#bd3786"
             ],
             [
              0.5555555555555556,
              "#d8576b"
             ],
             [
              0.6666666666666666,
              "#ed7953"
             ],
             [
              0.7777777777777778,
              "#fb9f3a"
             ],
             [
              0.8888888888888888,
              "#fdca26"
             ],
             [
              1,
              "#f0f921"
             ]
            ],
            "type": "contour"
           }
          ],
          "contourcarpet": [
           {
            "colorbar": {
             "outlinewidth": 0,
             "ticks": ""
            },
            "type": "contourcarpet"
           }
          ],
          "heatmap": [
           {
            "colorbar": {
             "outlinewidth": 0,
             "ticks": ""
            },
            "colorscale": [
             [
              0,
              "#0d0887"
             ],
             [
              0.1111111111111111,
              "#46039f"
             ],
             [
              0.2222222222222222,
              "#7201a8"
             ],
             [
              0.3333333333333333,
              "#9c179e"
             ],
             [
              0.4444444444444444,
              "#bd3786"
             ],
             [
              0.5555555555555556,
              "#d8576b"
             ],
             [
              0.6666666666666666,
              "#ed7953"
             ],
             [
              0.7777777777777778,
              "#fb9f3a"
             ],
             [
              0.8888888888888888,
              "#fdca26"
             ],
             [
              1,
              "#f0f921"
             ]
            ],
            "type": "heatmap"
           }
          ],
          "heatmapgl": [
           {
            "colorbar": {
             "outlinewidth": 0,
             "ticks": ""
            },
            "colorscale": [
             [
              0,
              "#0d0887"
             ],
             [
              0.1111111111111111,
              "#46039f"
             ],
             [
              0.2222222222222222,
              "#7201a8"
             ],
             [
              0.3333333333333333,
              "#9c179e"
             ],
             [
              0.4444444444444444,
              "#bd3786"
             ],
             [
              0.5555555555555556,
              "#d8576b"
             ],
             [
              0.6666666666666666,
              "#ed7953"
             ],
             [
              0.7777777777777778,
              "#fb9f3a"
             ],
             [
              0.8888888888888888,
              "#fdca26"
             ],
             [
              1,
              "#f0f921"
             ]
            ],
            "type": "heatmapgl"
           }
          ],
          "histogram": [
           {
            "marker": {
             "pattern": {
              "fillmode": "overlay",
              "size": 10,
              "solidity": 0.2
             }
            },
            "type": "histogram"
           }
          ],
          "histogram2d": [
           {
            "colorbar": {
             "outlinewidth": 0,
             "ticks": ""
            },
            "colorscale": [
             [
              0,
              "#0d0887"
             ],
             [
              0.1111111111111111,
              "#46039f"
             ],
             [
              0.2222222222222222,
              "#7201a8"
             ],
             [
              0.3333333333333333,
              "#9c179e"
             ],
             [
              0.4444444444444444,
              "#bd3786"
             ],
             [
              0.5555555555555556,
              "#d8576b"
             ],
             [
              0.6666666666666666,
              "#ed7953"
             ],
             [
              0.7777777777777778,
              "#fb9f3a"
             ],
             [
              0.8888888888888888,
              "#fdca26"
             ],
             [
              1,
              "#f0f921"
             ]
            ],
            "type": "histogram2d"
           }
          ],
          "histogram2dcontour": [
           {
            "colorbar": {
             "outlinewidth": 0,
             "ticks": ""
            },
            "colorscale": [
             [
              0,
              "#0d0887"
             ],
             [
              0.1111111111111111,
              "#46039f"
             ],
             [
              0.2222222222222222,
              "#7201a8"
             ],
             [
              0.3333333333333333,
              "#9c179e"
             ],
             [
              0.4444444444444444,
              "#bd3786"
             ],
             [
              0.5555555555555556,
              "#d8576b"
             ],
             [
              0.6666666666666666,
              "#ed7953"
             ],
             [
              0.7777777777777778,
              "#fb9f3a"
             ],
             [
              0.8888888888888888,
              "#fdca26"
             ],
             [
              1,
              "#f0f921"
             ]
            ],
            "type": "histogram2dcontour"
           }
          ],
          "mesh3d": [
           {
            "colorbar": {
             "outlinewidth": 0,
             "ticks": ""
            },
            "type": "mesh3d"
           }
          ],
          "parcoords": [
           {
            "line": {
             "colorbar": {
              "outlinewidth": 0,
              "ticks": ""
             }
            },
            "type": "parcoords"
           }
          ],
          "pie": [
           {
            "automargin": true,
            "type": "pie"
           }
          ],
          "scatter": [
           {
            "fillpattern": {
             "fillmode": "overlay",
             "size": 10,
             "solidity": 0.2
            },
            "type": "scatter"
           }
          ],
          "scatter3d": [
           {
            "line": {
             "colorbar": {
              "outlinewidth": 0,
              "ticks": ""
             }
            },
            "marker": {
             "colorbar": {
              "outlinewidth": 0,
              "ticks": ""
             }
            },
            "type": "scatter3d"
           }
          ],
          "scattercarpet": [
           {
            "marker": {
             "colorbar": {
              "outlinewidth": 0,
              "ticks": ""
             }
            },
            "type": "scattercarpet"
           }
          ],
          "scattergeo": [
           {
            "marker": {
             "colorbar": {
              "outlinewidth": 0,
              "ticks": ""
             }
            },
            "type": "scattergeo"
           }
          ],
          "scattergl": [
           {
            "marker": {
             "colorbar": {
              "outlinewidth": 0,
              "ticks": ""
             }
            },
            "type": "scattergl"
           }
          ],
          "scattermapbox": [
           {
            "marker": {
             "colorbar": {
              "outlinewidth": 0,
              "ticks": ""
             }
            },
            "type": "scattermapbox"
           }
          ],
          "scatterpolar": [
           {
            "marker": {
             "colorbar": {
              "outlinewidth": 0,
              "ticks": ""
             }
            },
            "type": "scatterpolar"
           }
          ],
          "scatterpolargl": [
           {
            "marker": {
             "colorbar": {
              "outlinewidth": 0,
              "ticks": ""
             }
            },
            "type": "scatterpolargl"
           }
          ],
          "scatterternary": [
           {
            "marker": {
             "colorbar": {
              "outlinewidth": 0,
              "ticks": ""
             }
            },
            "type": "scatterternary"
           }
          ],
          "surface": [
           {
            "colorbar": {
             "outlinewidth": 0,
             "ticks": ""
            },
            "colorscale": [
             [
              0,
              "#0d0887"
             ],
             [
              0.1111111111111111,
              "#46039f"
             ],
             [
              0.2222222222222222,
              "#7201a8"
             ],
             [
              0.3333333333333333,
              "#9c179e"
             ],
             [
              0.4444444444444444,
              "#bd3786"
             ],
             [
              0.5555555555555556,
              "#d8576b"
             ],
             [
              0.6666666666666666,
              "#ed7953"
             ],
             [
              0.7777777777777778,
              "#fb9f3a"
             ],
             [
              0.8888888888888888,
              "#fdca26"
             ],
             [
              1,
              "#f0f921"
             ]
            ],
            "type": "surface"
           }
          ],
          "table": [
           {
            "cells": {
             "fill": {
              "color": "#EBF0F8"
             },
             "line": {
              "color": "white"
             }
            },
            "header": {
             "fill": {
              "color": "#C8D4E3"
             },
             "line": {
              "color": "white"
             }
            },
            "type": "table"
           }
          ]
         },
         "layout": {
          "annotationdefaults": {
           "arrowcolor": "#2a3f5f",
           "arrowhead": 0,
           "arrowwidth": 1
          },
          "autotypenumbers": "strict",
          "coloraxis": {
           "colorbar": {
            "outlinewidth": 0,
            "ticks": ""
           }
          },
          "colorscale": {
           "diverging": [
            [
             0,
             "#8e0152"
            ],
            [
             0.1,
             "#c51b7d"
            ],
            [
             0.2,
             "#de77ae"
            ],
            [
             0.3,
             "#f1b6da"
            ],
            [
             0.4,
             "#fde0ef"
            ],
            [
             0.5,
             "#f7f7f7"
            ],
            [
             0.6,
             "#e6f5d0"
            ],
            [
             0.7,
             "#b8e186"
            ],
            [
             0.8,
             "#7fbc41"
            ],
            [
             0.9,
             "#4d9221"
            ],
            [
             1,
             "#276419"
            ]
           ],
           "sequential": [
            [
             0,
             "#0d0887"
            ],
            [
             0.1111111111111111,
             "#46039f"
            ],
            [
             0.2222222222222222,
             "#7201a8"
            ],
            [
             0.3333333333333333,
             "#9c179e"
            ],
            [
             0.4444444444444444,
             "#bd3786"
            ],
            [
             0.5555555555555556,
             "#d8576b"
            ],
            [
             0.6666666666666666,
             "#ed7953"
            ],
            [
             0.7777777777777778,
             "#fb9f3a"
            ],
            [
             0.8888888888888888,
             "#fdca26"
            ],
            [
             1,
             "#f0f921"
            ]
           ],
           "sequentialminus": [
            [
             0,
             "#0d0887"
            ],
            [
             0.1111111111111111,
             "#46039f"
            ],
            [
             0.2222222222222222,
             "#7201a8"
            ],
            [
             0.3333333333333333,
             "#9c179e"
            ],
            [
             0.4444444444444444,
             "#bd3786"
            ],
            [
             0.5555555555555556,
             "#d8576b"
            ],
            [
             0.6666666666666666,
             "#ed7953"
            ],
            [
             0.7777777777777778,
             "#fb9f3a"
            ],
            [
             0.8888888888888888,
             "#fdca26"
            ],
            [
             1,
             "#f0f921"
            ]
           ]
          },
          "colorway": [
           "#636efa",
           "#EF553B",
           "#00cc96",
           "#ab63fa",
           "#FFA15A",
           "#19d3f3",
           "#FF6692",
           "#B6E880",
           "#FF97FF",
           "#FECB52"
          ],
          "font": {
           "color": "#2a3f5f"
          },
          "geo": {
           "bgcolor": "white",
           "lakecolor": "white",
           "landcolor": "#E5ECF6",
           "showlakes": true,
           "showland": true,
           "subunitcolor": "white"
          },
          "hoverlabel": {
           "align": "left"
          },
          "hovermode": "closest",
          "mapbox": {
           "style": "light"
          },
          "paper_bgcolor": "white",
          "plot_bgcolor": "#E5ECF6",
          "polar": {
           "angularaxis": {
            "gridcolor": "white",
            "linecolor": "white",
            "ticks": ""
           },
           "bgcolor": "#E5ECF6",
           "radialaxis": {
            "gridcolor": "white",
            "linecolor": "white",
            "ticks": ""
           }
          },
          "scene": {
           "xaxis": {
            "backgroundcolor": "#E5ECF6",
            "gridcolor": "white",
            "gridwidth": 2,
            "linecolor": "white",
            "showbackground": true,
            "ticks": "",
            "zerolinecolor": "white"
           },
           "yaxis": {
            "backgroundcolor": "#E5ECF6",
            "gridcolor": "white",
            "gridwidth": 2,
            "linecolor": "white",
            "showbackground": true,
            "ticks": "",
            "zerolinecolor": "white"
           },
           "zaxis": {
            "backgroundcolor": "#E5ECF6",
            "gridcolor": "white",
            "gridwidth": 2,
            "linecolor": "white",
            "showbackground": true,
            "ticks": "",
            "zerolinecolor": "white"
           }
          },
          "shapedefaults": {
           "line": {
            "color": "#2a3f5f"
           }
          },
          "ternary": {
           "aaxis": {
            "gridcolor": "white",
            "linecolor": "white",
            "ticks": ""
           },
           "baxis": {
            "gridcolor": "white",
            "linecolor": "white",
            "ticks": ""
           },
           "bgcolor": "#E5ECF6",
           "caxis": {
            "gridcolor": "white",
            "linecolor": "white",
            "ticks": ""
           }
          },
          "title": {
           "x": 0.05
          },
          "xaxis": {
           "automargin": true,
           "gridcolor": "white",
           "linecolor": "white",
           "ticks": "",
           "title": {
            "standoff": 15
           },
           "zerolinecolor": "white",
           "zerolinewidth": 2
          },
          "yaxis": {
           "automargin": true,
           "gridcolor": "white",
           "linecolor": "white",
           "ticks": "",
           "title": {
            "standoff": 15
           },
           "zerolinecolor": "white",
           "zerolinewidth": 2
          }
         }
        },
        "width": 720,
        "xaxis": {
         "title": {
          "text": "Job Title"
         }
        },
        "yaxis": {
         "title": {
          "text": "Average BasePay"
         }
        }
       }
      }
     },
     "metadata": {},
     "output_type": "display_data"
    }
   ],
   "source": [
    "# Average BasePay of Males and Females by Job Title \n",
    "basepay_by_gender = round(df.pivot_table(index= 'JobTitle', columns='Gender', values = 'BasePay', aggfunc='mean', margins= False,) , ndigits=2)\n",
    "\n",
    "# Define colors for each gender\n",
    "colors = {'Male': 'navy', 'Female': 'coral'}\n",
    "\n",
    "# Initialize a figure\n",
    "fig = go.Figure()\n",
    "\n",
    "# Add traces for each gender\n",
    "for gender, color in colors.items():\n",
    "    fig.add_trace(go.Bar(\n",
    "        x=basepay_by_gender.index,\n",
    "        y=basepay_by_gender[gender],\n",
    "        name=gender,\n",
    "        marker_color=color\n",
    "    ))\n",
    "\n",
    "# Update the layout\n",
    "fig.update_layout(\n",
    "    barmode='group',\n",
    "    xaxis_title=\"Job Title\",\n",
    "    yaxis_title=\"Average BasePay\",\n",
    "    width=720,\n",
    "    height=550\n",
    ")\n",
    "\n",
    "fig.show()"
   ]
  },
  {
   "cell_type": "code",
   "execution_count": 73,
   "id": "c51e7ffe",
   "metadata": {
    "execution": {
     "iopub.execute_input": "2023-04-16T12:20:40.740038Z",
     "iopub.status.busy": "2023-04-16T12:20:40.739620Z",
     "iopub.status.idle": "2023-04-16T12:20:41.178577Z",
     "shell.execute_reply": "2023-04-16T12:20:41.177300Z"
    },
    "papermill": {
     "duration": 0.462495,
     "end_time": "2023-04-16T12:20:41.181784",
     "exception": false,
     "start_time": "2023-04-16T12:20:40.719289",
     "status": "completed"
    },
    "tags": []
   },
   "outputs": [
    {
     "data": {
      "image/png": "[encoded data removed]",
      "text/plain": [
       "<Figure size 1000x600 with 1 Axes>"
      ]
     },
     "metadata": {},
     "output_type": "display_data"
    }
   ],
   "source": [
    "# Calculating Total Pay\n",
    "df['TotalPay'] = df.BasePay + df.Bonus\n",
    "totalpay_by_gender = df.pivot_table(index = 'JobTitle', columns ='Gender',  values = 'TotalPay', aggfunc = 'mean')\n",
    "totalpay_by_gender['TotalPay_gap'] = totalpay_by_gender['Female'] - totalpay_by_gender['Male']\n",
    "totalpay_by_gender\n",
    "\n",
    "# Plotting the difference in Total Pay for each Job Title\n",
    "plt.figure(figsize=(10,6))\n",
    "sb.barplot(data = totalpay_by_gender , y = 'TotalPay_gap' , x=totalpay_by_gender.index, ec = 'black', color = 'coral')\n",
    "plt.xticks(rotation=45);\n",
    "plt.legend(['TotalPayFemale - TotalPayMale'] ,loc = 9)\n",
    "\n",
    "for i in range(len(totalpay_by_gender)):\n",
    "    plt.text(i, totalpay_by_gender.TotalPay_gap[i], round(totalpay_by_gender.TotalPay_gap[i], ndigits=0), ha = 'center', va ='bottom')"
   ]
  },
  {
   "cell_type": "code",
   "execution_count": 74,
   "id": "46d4b44b",
   "metadata": {
    "execution": {
     "iopub.execute_input": "2023-04-16T12:20:41.265005Z",
     "iopub.status.busy": "2023-04-16T12:20:41.264594Z",
     "iopub.status.idle": "2023-04-16T12:20:41.344878Z",
     "shell.execute_reply": "2023-04-16T12:20:41.343855Z"
    },
    "papermill": {
     "duration": 0.105166,
     "end_time": "2023-04-16T12:20:41.347375",
     "exception": false,
     "start_time": "2023-04-16T12:20:41.242209",
     "status": "completed"
    },
    "tags": []
   },
   "outputs": [
    {
     "data": {
      "application/vnd.plotly.v1+json": {
       "config": {
        "plotlyServerURL": "https://plot.ly"
       },
       "data": [
        {
         "marker": {
          "color": "navy"
         },
         "name": "Male",
         "type": "bar",
         "x": [
          "Data Scientist",
          "Driver",
          "Financial Analyst",
          "Graphic Designer",
          "IT",
          "Manager",
          "Marketing Associate",
          "Sales Associate",
          "Software Engineer",
          "Warehouse Associate"
         ],
         "y": [
          6513,
          6151,
          6758,
          6936,
          6484,
          6152,
          5516,
          5947,
          6643,
          6748
         ]
        },
        {
         "marker": {
          "color": "coral"
         },
         "name": "Female",
         "type": "bar",
         "x": [
          "Data Scientist",
          "Driver",
          "Financial Analyst",
          "Graphic Designer",
          "IT",
          "Manager",
          "Marketing Associate",
          "Sales Associate",
          "Software Engineer",
          "Warehouse Associate"
         ],
         "y": [
          6814,
          6405,
          6432,
          6596,
          6058,
          6288,
          6010,
          6430,
          7868,
          8034
         ]
        }
       ],
       "layout": {
        "barmode": "group",
        "height": 550,
        "template": {
         "data": {
          "bar": [
           {
            "error_x": {
             "color": "#2a3f5f"
            },
            "error_y": {
             "color": "#2a3f5f"
            },
            "marker": {
             "line": {
              "color": "#E5ECF6",
              "width": 0.5
             },
             "pattern": {
              "fillmode": "overlay",
              "size": 10,
              "solidity": 0.2
             }
            },
            "type": "bar"
           }
          ],
          "barpolar": [
           {
            "marker": {
             "line": {
              "color": "#E5ECF6",
              "width": 0.5
             },
             "pattern": {
              "fillmode": "overlay",
              "size": 10,
              "solidity": 0.2
             }
            },
            "type": "barpolar"
           }
          ],
          "carpet": [
           {
            "aaxis": {
             "endlinecolor": "#2a3f5f",
             "gridcolor": "white",
             "linecolor": "white",
             "minorgridcolor": "white",
             "startlinecolor": "#2a3f5f"
            },
            "baxis": {
             "endlinecolor": "#2a3f5f",
             "gridcolor": "white",
             "linecolor": "white",
             "minorgridcolor": "white",
             "startlinecolor": "#2a3f5f"
            },
            "type": "carpet"
           }
          ],
          "choropleth": [
           {
            "colorbar": {
             "outlinewidth": 0,
             "ticks": ""
            },
            "type": "choropleth"
           }
          ],
          "contour": [
           {
            "colorbar": {
             "outlinewidth": 0,
             "ticks": ""
            },
            "colorscale": [
             [
              0,
              "#0d0887"
             ],
             [
              0.1111111111111111,
              "#46039f"
             ],
             [
              0.2222222222222222,
              "#7201a8"
             ],
             [
              0.3333333333333333,
              "#9c179e"
             ],
             [
              0.4444444444444444,
              "#bd3786"
             ],
             [
              0.5555555555555556,
              "#d8576b"
             ],
             [
              0.6666666666666666,
              "#ed7953"
             ],
             [
              0.7777777777777778,
              "#fb9f3a"
             ],
             [
              0.8888888888888888,
              "#fdca26"
             ],
             [
              1,
              "#f0f921"
             ]
            ],
            "type": "contour"
           }
          ],
          "contourcarpet": [
           {
            "colorbar": {
             "outlinewidth": 0,
             "ticks": ""
            },
            "type": "contourcarpet"
           }
          ],
          "heatmap": [
           {
            "colorbar": {
             "outlinewidth": 0,
             "ticks": ""
            },
            "colorscale": [
             [
              0,
              "#0d0887"
             ],
             [
              0.1111111111111111,
              "#46039f"
             ],
             [
              0.2222222222222222,
              "#7201a8"
             ],
             [
              0.3333333333333333,
              "#9c179e"
             ],
             [
              0.4444444444444444,
              "#bd3786"
             ],
             [
              0.5555555555555556,
              "#d8576b"
             ],
             [
              0.6666666666666666,
              "#ed7953"
             ],
             [
              0.7777777777777778,
              "#fb9f3a"
             ],
             [
              0.8888888888888888,
              "#fdca26"
             ],
             [
              1,
              "#f0f921"
             ]
            ],
            "type": "heatmap"
           }
          ],
          "heatmapgl": [
           {
            "colorbar": {
             "outlinewidth": 0,
             "ticks": ""
            },
            "colorscale": [
             [
              0,
              "#0d0887"
             ],
             [
              0.1111111111111111,
              "#46039f"
             ],
             [
              0.2222222222222222,
              "#7201a8"
             ],
             [
              0.3333333333333333,
              "#9c179e"
             ],
             [
              0.4444444444444444,
              "#bd3786"
             ],
             [
              0.5555555555555556,
              "#d8576b"
             ],
             [
              0.6666666666666666,
              "#ed7953"
             ],
             [
              0.7777777777777778,
              "#fb9f3a"
             ],
             [
              0.8888888888888888,
              "#fdca26"
             ],
             [
              1,
              "#f0f921"
             ]
            ],
            "type": "heatmapgl"
           }
          ],
          "histogram": [
           {
            "marker": {
             "pattern": {
              "fillmode": "overlay",
              "size": 10,
              "solidity": 0.2
             }
            },
            "type": "histogram"
           }
          ],
          "histogram2d": [
           {
            "colorbar": {
             "outlinewidth": 0,
             "ticks": ""
            },
            "colorscale": [
             [
              0,
              "#0d0887"
             ],
             [
              0.1111111111111111,
              "#46039f"
             ],
             [
              0.2222222222222222,
              "#7201a8"
             ],
             [
              0.3333333333333333,
              "#9c179e"
             ],
             [
              0.4444444444444444,
              "#bd3786"
             ],
             [
              0.5555555555555556,
              "#d8576b"
             ],
             [
              0.6666666666666666,
              "#ed7953"
             ],
             [
              0.7777777777777778,
              "#fb9f3a"
             ],
             [
              0.8888888888888888,
              "#fdca26"
             ],
             [
              1,
              "#f0f921"
             ]
            ],
            "type": "histogram2d"
           }
          ],
          "histogram2dcontour": [
           {
            "colorbar": {
             "outlinewidth": 0,
             "ticks": ""
            },
            "colorscale": [
             [
              0,
              "#0d0887"
             ],
             [
              0.1111111111111111,
              "#46039f"
             ],
             [
              0.2222222222222222,
              "#7201a8"
             ],
             [
              0.3333333333333333,
              "#9c179e"
             ],
             [
              0.4444444444444444,
              "#bd3786"
             ],
             [
              0.5555555555555556,
              "#d8576b"
             ],
             [
              0.6666666666666666,
              "#ed7953"
             ],
             [
              0.7777777777777778,
              "#fb9f3a"
             ],
             [
              0.8888888888888888,
              "#fdca26"
             ],
             [
              1,
              "#f0f921"
             ]
            ],
            "type": "histogram2dcontour"
           }
          ],
          "mesh3d": [
           {
            "colorbar": {
             "outlinewidth": 0,
             "ticks": ""
            },
            "type": "mesh3d"
           }
          ],
          "parcoords": [
           {
            "line": {
             "colorbar": {
              "outlinewidth": 0,
              "ticks": ""
             }
            },
            "type": "parcoords"
           }
          ],
          "pie": [
           {
            "automargin": true,
            "type": "pie"
           }
          ],
          "scatter": [
           {
            "fillpattern": {
             "fillmode": "overlay",
             "size": 10,
             "solidity": 0.2
            },
            "type": "scatter"
           }
          ],
          "scatter3d": [
           {
            "line": {
             "colorbar": {
              "outlinewidth": 0,
              "ticks": ""
             }
            },
            "marker": {
             "colorbar": {
              "outlinewidth": 0,
              "ticks": ""
             }
            },
            "type": "scatter3d"
           }
          ],
          "scattercarpet": [
           {
            "marker": {
             "colorbar": {
              "outlinewidth": 0,
              "ticks": ""
             }
            },
            "type": "scattercarpet"
           }
          ],
          "scattergeo": [
           {
            "marker": {
             "colorbar": {
              "outlinewidth": 0,
              "ticks": ""
             }
            },
            "type": "scattergeo"
           }
          ],
          "scattergl": [
           {
            "marker": {
             "colorbar": {
              "outlinewidth": 0,
              "ticks": ""
             }
            },
            "type": "scattergl"
           }
          ],
          "scattermapbox": [
           {
            "marker": {
             "colorbar": {
              "outlinewidth": 0,
              "ticks": ""
             }
            },
            "type": "scattermapbox"
           }
          ],
          "scatterpolar": [
           {
            "marker": {
             "colorbar": {
              "outlinewidth": 0,
              "ticks": ""
             }
            },
            "type": "scatterpolar"
           }
          ],
          "scatterpolargl": [
           {
            "marker": {
             "colorbar": {
              "outlinewidth": 0,
              "ticks": ""
             }
            },
            "type": "scatterpolargl"
           }
          ],
          "scatterternary": [
           {
            "marker": {
             "colorbar": {
              "outlinewidth": 0,
              "ticks": ""
             }
            },
            "type": "scatterternary"
           }
          ],
          "surface": [
           {
            "colorbar": {
             "outlinewidth": 0,
             "ticks": ""
            },
            "colorscale": [
             [
              0,
              "#0d0887"
             ],
             [
              0.1111111111111111,
              "#46039f"
             ],
             [
              0.2222222222222222,
              "#7201a8"
             ],
             [
              0.3333333333333333,
              "#9c179e"
             ],
             [
              0.4444444444444444,
              "#bd3786"
             ],
             [
              0.5555555555555556,
              "#d8576b"
             ],
             [
              0.6666666666666666,
              "#ed7953"
             ],
             [
              0.7777777777777778,
              "#fb9f3a"
             ],
             [
              0.8888888888888888,
              "#fdca26"
             ],
             [
              1,
              "#f0f921"
             ]
            ],
            "type": "surface"
           }
          ],
          "table": [
           {
            "cells": {
             "fill": {
              "color": "#EBF0F8"
             },
             "line": {
              "color": "white"
             }
            },
            "header": {
             "fill": {
              "color": "#C8D4E3"
             },
             "line": {
              "color": "white"
             }
            },
            "type": "table"
           }
          ]
         },
         "layout": {
          "annotationdefaults": {
           "arrowcolor": "#2a3f5f",
           "arrowhead": 0,
           "arrowwidth": 1
          },
          "autotypenumbers": "strict",
          "coloraxis": {
           "colorbar": {
            "outlinewidth": 0,
            "ticks": ""
           }
          },
          "colorscale": {
           "diverging": [
            [
             0,
             "#8e0152"
            ],
            [
             0.1,
             "#c51b7d"
            ],
            [
             0.2,
             "#de77ae"
            ],
            [
             0.3,
             "#f1b6da"
            ],
            [
             0.4,
             "#fde0ef"
            ],
            [
             0.5,
             "#f7f7f7"
            ],
            [
             0.6,
             "#e6f5d0"
            ],
            [
             0.7,
             "#b8e186"
            ],
            [
             0.8,
             "#7fbc41"
            ],
            [
             0.9,
             "#4d9221"
            ],
            [
             1,
             "#276419"
            ]
           ],
           "sequential": [
            [
             0,
             "#0d0887"
            ],
            [
             0.1111111111111111,
             "#46039f"
            ],
            [
             0.2222222222222222,
             "#7201a8"
            ],
            [
             0.3333333333333333,
             "#9c179e"
            ],
            [
             0.4444444444444444,
             "#bd3786"
            ],
            [
             0.5555555555555556,
             "#d8576b"
            ],
            [
             0.6666666666666666,
             "#ed7953"
            ],
            [
             0.7777777777777778,
             "#fb9f3a"
            ],
            [
             0.8888888888888888,
             "#fdca26"
            ],
            [
             1,
             "#f0f921"
            ]
           ],
           "sequentialminus": [
            [
             0,
             "#0d0887"
            ],
            [
             0.1111111111111111,
             "#46039f"
            ],
            [
             0.2222222222222222,
             "#7201a8"
            ],
            [
             0.3333333333333333,
             "#9c179e"
            ],
            [
             0.4444444444444444,
             "#bd3786"
            ],
            [
             0.5555555555555556,
             "#d8576b"
            ],
            [
             0.6666666666666666,
             "#ed7953"
            ],
            [
             0.7777777777777778,
             "#fb9f3a"
            ],
            [
             0.8888888888888888,
             "#fdca26"
            ],
            [
             1,
             "#f0f921"
            ]
           ]
          },
          "colorway": [
           "#636efa",
           "#EF553B",
           "#00cc96",
           "#ab63fa",
           "#FFA15A",
           "#19d3f3",
           "#FF6692",
           "#B6E880",
           "#FF97FF",
           "#FECB52"
          ],
          "font": {
           "color": "#2a3f5f"
          },
          "geo": {
           "bgcolor": "white",
           "lakecolor": "white",
           "landcolor": "#E5ECF6",
           "showlakes": true,
           "showland": true,
           "subunitcolor": "white"
          },
          "hoverlabel": {
           "align": "left"
          },
          "hovermode": "closest",
          "mapbox": {
           "style": "light"
          },
          "paper_bgcolor": "white",
          "plot_bgcolor": "#E5ECF6",
          "polar": {
           "angularaxis": {
            "gridcolor": "white",
            "linecolor": "white",
            "ticks": ""
           },
           "bgcolor": "#E5ECF6",
           "radialaxis": {
            "gridcolor": "white",
            "linecolor": "white",
            "ticks": ""
           }
          },
          "scene": {
           "xaxis": {
            "backgroundcolor": "#E5ECF6",
            "gridcolor": "white",
            "gridwidth": 2,
            "linecolor": "white",
            "showbackground": true,
            "ticks": "",
            "zerolinecolor": "white"
           },
           "yaxis": {
            "backgroundcolor": "#E5ECF6",
            "gridcolor": "white",
            "gridwidth": 2,
            "linecolor": "white",
            "showbackground": true,
            "ticks": "",
            "zerolinecolor": "white"
           },
           "zaxis": {
            "backgroundcolor": "#E5ECF6",
            "gridcolor": "white",
            "gridwidth": 2,
            "linecolor": "white",
            "showbackground": true,
            "ticks": "",
            "zerolinecolor": "white"
           }
          },
          "shapedefaults": {
           "line": {
            "color": "#2a3f5f"
           }
          },
          "ternary": {
           "aaxis": {
            "gridcolor": "white",
            "linecolor": "white",
            "ticks": ""
           },
           "baxis": {
            "gridcolor": "white",
            "linecolor": "white",
            "ticks": ""
           },
           "bgcolor": "#E5ECF6",
           "caxis": {
            "gridcolor": "white",
            "linecolor": "white",
            "ticks": ""
           }
          },
          "title": {
           "x": 0.05
          },
          "xaxis": {
           "automargin": true,
           "gridcolor": "white",
           "linecolor": "white",
           "ticks": "",
           "title": {
            "standoff": 15
           },
           "zerolinecolor": "white",
           "zerolinewidth": 2
          },
          "yaxis": {
           "automargin": true,
           "gridcolor": "white",
           "linecolor": "white",
           "ticks": "",
           "title": {
            "standoff": 15
           },
           "zerolinecolor": "white",
           "zerolinewidth": 2
          }
         }
        },
        "width": 720,
        "xaxis": {
         "title": {
          "text": "Job Title"
         }
        },
        "yaxis": {
         "title": {
          "text": "Median Bonus"
         }
        }
       }
      }
     },
     "metadata": {},
     "output_type": "display_data"
    }
   ],
   "source": [
    "bonus_by_gender = round(df.pivot_table(index= 'JobTitle', columns='Gender', values = 'Bonus', aggfunc='median') , ndigits= 0)\n",
    "\n",
    "# px.bar(bonus_by_gender[['Male' , 'Female']], barmode= 'group', width=720, height=550, title = 'Figure 9: Average Bonus of Males and Females by Job Title')\n",
    "\n",
    "# Define colors for each gender\n",
    "colors = {'Male': 'navy', 'Female': 'coral'}\n",
    "\n",
    "# Initialize a figure\n",
    "fig = go.Figure()\n",
    "\n",
    "# Add traces for each gender\n",
    "for gender, color in colors.items():\n",
    "    fig.add_trace(go.Bar(\n",
    "        x=bonus_by_gender.index,\n",
    "        y=bonus_by_gender[gender],\n",
    "        name=gender,\n",
    "        marker_color=color\n",
    "    ))\n",
    "\n",
    "# Update the layout\n",
    "fig.update_layout(\n",
    "    barmode='group',\n",
    "    xaxis_title=\"Job Title\",\n",
    "    yaxis_title=\"Median Bonus\",\n",
    "    width=720,\n",
    "    height=550\n",
    ")\n",
    "\n",
    "fig.show()"
   ]
  },
  {
   "cell_type": "code",
   "execution_count": 75,
   "id": "7b6b0bd9",
   "metadata": {
    "execution": {
     "iopub.execute_input": "2023-04-16T12:20:41.431615Z",
     "iopub.status.busy": "2023-04-16T12:20:41.431197Z",
     "iopub.status.idle": "2023-04-16T12:20:41.463157Z",
     "shell.execute_reply": "2023-04-16T12:20:41.461831Z"
    },
    "papermill": {
     "duration": 0.056457,
     "end_time": "2023-04-16T12:20:41.465452",
     "exception": false,
     "start_time": "2023-04-16T12:20:41.408995",
     "status": "completed"
    },
    "tags": []
   },
   "outputs": [
    {
     "name": "stdout",
     "output_type": "stream",
     "text": [
      "Table 1: SUMMARY STATISTICS OF BASE PAY BY GENDER\n"
     ]
    },
    {
     "data": {
      "text/html": [
       "<div>\n",
       "<style scoped>\n",
       "    .dataframe tbody tr th:only-of-type {\n",
       "        vertical-align: middle;\n",
       "    }\n",
       "\n",
       "    .dataframe tbody tr th {\n",
       "        vertical-align: top;\n",
       "    }\n",
       "\n",
       "    .dataframe thead th {\n",
       "        text-align: right;\n",
       "    }\n",
       "</style>\n",
       "<table border=\"1\" class=\"dataframe\">\n",
       "  <thead>\n",
       "    <tr style=\"text-align: right;\">\n",
       "      <th></th>\n",
       "      <th></th>\n",
       "      <th>BasePay</th>\n",
       "      <th>Bonus</th>\n",
       "    </tr>\n",
       "  </thead>\n",
       "  <tbody>\n",
       "    <tr>\n",
       "      <th rowspan=\"8\" valign=\"top\">male</th>\n",
       "      <th>count</th>\n",
       "      <td>5.320000e+02</td>\n",
       "      <td>532.000000</td>\n",
       "    </tr>\n",
       "    <tr>\n",
       "      <th>mean</th>\n",
       "      <td>1.181491e+06</td>\n",
       "      <td>6461.133459</td>\n",
       "    </tr>\n",
       "    <tr>\n",
       "      <th>std</th>\n",
       "      <td>3.062102e+05</td>\n",
       "      <td>2001.756231</td>\n",
       "    </tr>\n",
       "    <tr>\n",
       "      <th>min</th>\n",
       "      <td>4.397040e+05</td>\n",
       "      <td>1703.000000</td>\n",
       "    </tr>\n",
       "    <tr>\n",
       "      <th>25%</th>\n",
       "      <td>9.774300e+05</td>\n",
       "      <td>4853.250000</td>\n",
       "    </tr>\n",
       "    <tr>\n",
       "      <th>50%</th>\n",
       "      <td>1.178676e+06</td>\n",
       "      <td>6480.500000</td>\n",
       "    </tr>\n",
       "    <tr>\n",
       "      <th>75%</th>\n",
       "      <td>1.387275e+06</td>\n",
       "      <td>7989.000000</td>\n",
       "    </tr>\n",
       "    <tr>\n",
       "      <th>max</th>\n",
       "      <td>2.156712e+06</td>\n",
       "      <td>11293.000000</td>\n",
       "    </tr>\n",
       "    <tr>\n",
       "      <th rowspan=\"8\" valign=\"top\">female</th>\n",
       "      <th>count</th>\n",
       "      <td>4.680000e+02</td>\n",
       "      <td>468.000000</td>\n",
       "    </tr>\n",
       "    <tr>\n",
       "      <th>mean</th>\n",
       "      <td>1.079314e+06</td>\n",
       "      <td>6474.012821</td>\n",
       "    </tr>\n",
       "    <tr>\n",
       "      <th>std</th>\n",
       "      <td>2.925393e+05</td>\n",
       "      <td>2009.473239</td>\n",
       "    </tr>\n",
       "    <tr>\n",
       "      <th>min</th>\n",
       "      <td>4.104960e+05</td>\n",
       "      <td>1884.000000</td>\n",
       "    </tr>\n",
       "    <tr>\n",
       "      <th>25%</th>\n",
       "      <td>8.782350e+05</td>\n",
       "      <td>4841.000000</td>\n",
       "    </tr>\n",
       "    <tr>\n",
       "      <th>50%</th>\n",
       "      <td>1.078962e+06</td>\n",
       "      <td>6553.000000</td>\n",
       "    </tr>\n",
       "    <tr>\n",
       "      <th>75%</th>\n",
       "      <td>1.283079e+06</td>\n",
       "      <td>8090.000000</td>\n",
       "    </tr>\n",
       "    <tr>\n",
       "      <th>max</th>\n",
       "      <td>1.927368e+06</td>\n",
       "      <td>10768.000000</td>\n",
       "    </tr>\n",
       "  </tbody>\n",
       "</table>\n",
       "</div>"
      ],
      "text/plain": [
       "                   BasePay         Bonus\n",
       "male   count  5.320000e+02    532.000000\n",
       "       mean   1.181491e+06   6461.133459\n",
       "       std    3.062102e+05   2001.756231\n",
       "       min    4.397040e+05   1703.000000\n",
       "       25%    9.774300e+05   4853.250000\n",
       "       50%    1.178676e+06   6480.500000\n",
       "       75%    1.387275e+06   7989.000000\n",
       "       max    2.156712e+06  11293.000000\n",
       "female count  4.680000e+02    468.000000\n",
       "       mean   1.079314e+06   6474.012821\n",
       "       std    2.925393e+05   2009.473239\n",
       "       min    4.104960e+05   1884.000000\n",
       "       25%    8.782350e+05   4841.000000\n",
       "       50%    1.078962e+06   6553.000000\n",
       "       75%    1.283079e+06   8090.000000\n",
       "       max    1.927368e+06  10768.000000"
      ]
     },
     "execution_count": 75,
     "metadata": {},
     "output_type": "execute_result"
    }
   ],
   "source": [
    "male_grp = df.groupby('Gender').get_group(\"Male\")[['BasePay' , 'Bonus']]\n",
    "female_grp = df.groupby('Gender').get_group(\"Female\")[['BasePay' , 'Bonus']]\n",
    "\n",
    "print ('Table 1: SUMMARY STATISTICS OF BASE PAY BY GENDER')\n",
    "pd.concat( [male_grp.describe(), female_grp.describe()], keys=['male', 'female'] )"
   ]
  },
  {
   "cell_type": "code",
   "execution_count": 76,
   "id": "bac93434",
   "metadata": {
    "execution": {
     "iopub.execute_input": "2023-04-16T12:20:41.511547Z",
     "iopub.status.busy": "2023-04-16T12:20:41.511160Z",
     "iopub.status.idle": "2023-04-16T12:20:41.751644Z",
     "shell.execute_reply": "2023-04-16T12:20:41.750276Z"
    },
    "papermill": {
     "duration": 0.267007,
     "end_time": "2023-04-16T12:20:41.754166",
     "exception": false,
     "start_time": "2023-04-16T12:20:41.487159",
     "status": "completed"
    },
    "tags": []
   },
   "outputs": [
    {
     "data": {
      "text/plain": [
       "<Axes: xlabel='BasePay', ylabel='Gender'>"
      ]
     },
     "execution_count": 76,
     "metadata": {},
     "output_type": "execute_result"
    },
    {
     "data": {
      "image/png": "[encoded data removed]",
      "text/plain": [
       "<Figure size 640x480 with 1 Axes>"
      ]
     },
     "metadata": {},
     "output_type": "display_data"
    }
   ],
   "source": [
    "# Distribution of BasePay by Gender - BoxPlot \n",
    "# palette = {\"Male\": \"turquoise\", \"Female\": \"lightpink\"}\n",
    "palette = {\"Male\" : \"navy\", \"Female\" : \"coral\"}\n",
    "sb.boxplot(x=df['BasePay'], y=df['Gender'], showmeans=True, linewidth=2, palette=palette)\n",
    "# plt.title('Figure 10: Distribution of Base Pay by Gender', size = 15);"
   ]
  },
  {
   "cell_type": "code",
   "execution_count": 77,
   "id": "da99e3ba",
   "metadata": {},
   "outputs": [
    {
     "data": {
      "image/png": "[encoded data removed]",
      "text/plain": [
       "<Figure size 640x480 with 1 Axes>"
      ]
     },
     "metadata": {},
     "output_type": "display_data"
    }
   ],
   "source": [
    "# Filter the DataFrame for software engineering positions\n",
    "software_engineering_df = df[df['JobTitle'] == 'Software Engineer']\n",
    "\n",
    "palette = {\"Male\": \"navy\", \"Female\": \"coral\"}\n",
    "# Create a boxplot for BasePay distribution in Software Engineering by Gender\n",
    "sb.boxplot(x=software_engineering_df['BasePay'], y=software_engineering_df['Gender'], showmeans=True, linewidth=2, palette=palette)\n",
    "plt.title('BoxPlot of Base Pay for SDE', size=15)\n",
    "plt.show()"
   ]
  },
  {
   "cell_type": "code",
   "execution_count": 78,
   "id": "38af90bc",
   "metadata": {},
   "outputs": [
    {
     "data": {
      "image/png": "[encoded data removed]",
      "text/plain": [
       "<Figure size 640x480 with 1 Axes>"
      ]
     },
     "metadata": {},
     "output_type": "display_data"
    }
   ],
   "source": [
    "marketing_associate_df = df[df['JobTitle'] == 'Marketing Associate']\n",
    "palette = {\"Male\": \"navy\", \"Female\": \"coral\"}\n",
    "sb.boxplot(x=marketing_associate_df['BasePay'], y=marketing_associate_df['Gender'], showmeans=True, linewidth=2, palette=palette)\n",
    "plt.title('BoxPlot of Base Pay for Marketing Assc.', size=15)\n",
    "plt.show()"
   ]
  },
  {
   "cell_type": "code",
   "execution_count": 79,
   "id": "a3c93e20",
   "metadata": {
    "execution": {
     "iopub.execute_input": "2023-04-16T12:20:41.803026Z",
     "iopub.status.busy": "2023-04-16T12:20:41.802569Z",
     "iopub.status.idle": "2023-04-16T12:20:41.830117Z",
     "shell.execute_reply": "2023-04-16T12:20:41.828859Z"
    },
    "papermill": {
     "duration": 0.054181,
     "end_time": "2023-04-16T12:20:41.832399",
     "exception": false,
     "start_time": "2023-04-16T12:20:41.778218",
     "status": "completed"
    },
    "tags": []
   },
   "outputs": [
    {
     "name": "stdout",
     "output_type": "stream",
     "text": [
      "TABLE 2: OUTLIERS IN DATASET\n"
     ]
    },
    {
     "data": {
      "text/html": [
       "<div>\n",
       "<style scoped>\n",
       "    .dataframe tbody tr th:only-of-type {\n",
       "        vertical-align: middle;\n",
       "    }\n",
       "\n",
       "    .dataframe tbody tr th {\n",
       "        vertical-align: top;\n",
       "    }\n",
       "\n",
       "    .dataframe thead th {\n",
       "        text-align: right;\n",
       "    }\n",
       "</style>\n",
       "<table border=\"1\" class=\"dataframe\">\n",
       "  <thead>\n",
       "    <tr style=\"text-align: right;\">\n",
       "      <th></th>\n",
       "      <th></th>\n",
       "      <th>JobTitle</th>\n",
       "      <th>Gender</th>\n",
       "      <th>Age</th>\n",
       "      <th>PerfEval</th>\n",
       "      <th>Education</th>\n",
       "      <th>Dept</th>\n",
       "      <th>Seniority</th>\n",
       "      <th>BasePay</th>\n",
       "      <th>Bonus</th>\n",
       "      <th>TotalPay</th>\n",
       "    </tr>\n",
       "  </thead>\n",
       "  <tbody>\n",
       "    <tr>\n",
       "      <th rowspan=\"2\" valign=\"top\">male</th>\n",
       "      <th>927</th>\n",
       "      <td>Manager</td>\n",
       "      <td>Male</td>\n",
       "      <td>58</td>\n",
       "      <td>1</td>\n",
       "      <td>PhD</td>\n",
       "      <td>Management</td>\n",
       "      <td>4</td>\n",
       "      <td>2156712</td>\n",
       "      <td>4284</td>\n",
       "      <td>2160996</td>\n",
       "    </tr>\n",
       "    <tr>\n",
       "      <th>353</th>\n",
       "      <td>Manager</td>\n",
       "      <td>Male</td>\n",
       "      <td>59</td>\n",
       "      <td>4</td>\n",
       "      <td>PhD</td>\n",
       "      <td>Sales</td>\n",
       "      <td>5</td>\n",
       "      <td>2121468</td>\n",
       "      <td>6773</td>\n",
       "      <td>2128241</td>\n",
       "    </tr>\n",
       "    <tr>\n",
       "      <th>female</th>\n",
       "      <th>357</th>\n",
       "      <td>Manager</td>\n",
       "      <td>Female</td>\n",
       "      <td>60</td>\n",
       "      <td>4</td>\n",
       "      <td>PhD</td>\n",
       "      <td>Management</td>\n",
       "      <td>3</td>\n",
       "      <td>1927368</td>\n",
       "      <td>8354</td>\n",
       "      <td>1935722</td>\n",
       "    </tr>\n",
       "  </tbody>\n",
       "</table>\n",
       "</div>"
      ],
      "text/plain": [
       "           JobTitle  Gender  Age  PerfEval Education        Dept  Seniority  \\\n",
       "male   927  Manager    Male   58         1       PhD  Management          4   \n",
       "       353  Manager    Male   59         4       PhD       Sales          5   \n",
       "female 357  Manager  Female   60         4       PhD  Management          3   \n",
       "\n",
       "            BasePay  Bonus  TotalPay  \n",
       "male   927  2156712   4284   2160996  \n",
       "       353  2121468   6773   2128241  \n",
       "female 357  1927368   8354   1935722  "
      ]
     },
     "execution_count": 79,
     "metadata": {},
     "output_type": "execute_result"
    }
   ],
   "source": [
    "# OUTLERS\n",
    "\n",
    "outlier_male_pay = df.groupby('Gender').get_group(\"Male\").nlargest(columns = \"BasePay\", n=2)\n",
    "outlier_female_pay =  df.groupby('Gender').get_group(\"Female\").nlargest(columns = \"BasePay\", n=1)\n",
    "\n",
    "print('TABLE 2: OUTLIERS IN DATASET')\n",
    "pd.concat([outlier_male_pay , outlier_female_pay] ,  keys=['male', 'female'] )"
   ]
  },
  {
   "cell_type": "code",
   "execution_count": 80,
   "id": "ca065999",
   "metadata": {
    "execution": {
     "iopub.execute_input": "2023-04-16T12:20:41.924587Z",
     "iopub.status.busy": "2023-04-16T12:20:41.923804Z",
     "iopub.status.idle": "2023-04-16T12:20:42.232584Z",
     "shell.execute_reply": "2023-04-16T12:20:42.231605Z"
    },
    "papermill": {
     "duration": 0.337198,
     "end_time": "2023-04-16T12:20:42.235075",
     "exception": false,
     "start_time": "2023-04-16T12:20:41.897877",
     "status": "completed"
    },
    "tags": []
   },
   "outputs": [
    {
     "data": {
      "image/png": "[encoded data removed]",
      "text/plain": [
       "<Figure size 640x480 with 1 Axes>"
      ]
     },
     "metadata": {},
     "output_type": "display_data"
    }
   ],
   "source": [
    "# Mean BasePay by Education.\n",
    "\n",
    "# Assuming df is your DataFrame and you've already created the pivot table\n",
    "pivot_table = df.pivot_table(index='Education', columns='Gender', values='BasePay', aggfunc=\"mean\")\n",
    "\n",
    "# Define the colors for each line\n",
    "colors = ['navy', 'coral']  # For example, green for Male and red for Female\n",
    "\n",
    "# Create the line plot with custom colors\n",
    "pivot_table.plot.line(marker='o', color=colors)\n",
    "plt.ylabel(\"BasePay\")\n",
    "plt.show()"
   ]
  },
  {
   "cell_type": "code",
   "execution_count": 81,
   "id": "d4badc90",
   "metadata": {
    "execution": {
     "iopub.execute_input": "2023-04-16T12:20:42.328998Z",
     "iopub.status.busy": "2023-04-16T12:20:42.328538Z",
     "iopub.status.idle": "2023-04-16T12:20:42.642756Z",
     "shell.execute_reply": "2023-04-16T12:20:42.641775Z"
    },
    "papermill": {
     "duration": 0.3411,
     "end_time": "2023-04-16T12:20:42.645242",
     "exception": false,
     "start_time": "2023-04-16T12:20:42.304142",
     "status": "completed"
    },
    "tags": []
   },
   "outputs": [
    {
     "data": {
      "text/plain": [
       "<Axes: xlabel='Dept', ylabel='BasePay'>"
      ]
     },
     "execution_count": 81,
     "metadata": {},
     "output_type": "execute_result"
    },
    {
     "data": {
      "image/png": "[encoded data removed]",
      "text/plain": [
       "<Figure size 640x480 with 1 Axes>"
      ]
     },
     "metadata": {},
     "output_type": "display_data"
    }
   ],
   "source": [
    "# Average Base Pay of Males and females by Department - Column Chart\n",
    "\n",
    "palette = {\"Male\": \"navy\", \"Female\": \"coral\"}\n",
    "\n",
    "sb.barplot(data = df, x= 'Dept', y = 'BasePay', hue = 'Gender', ec ='black', palette=palette, errorbar=None)\n",
    "# plt.title('Figure 12: Average Base Pay by Department', size = 14);"
   ]
  },
  {
   "cell_type": "code",
   "execution_count": 82,
   "id": "140b9d58",
   "metadata": {
    "execution": {
     "iopub.execute_input": "2023-04-16T12:20:42.744408Z",
     "iopub.status.busy": "2023-04-16T12:20:42.743447Z",
     "iopub.status.idle": "2023-04-16T12:20:43.131235Z",
     "shell.execute_reply": "2023-04-16T12:20:43.129994Z"
    },
    "papermill": {
     "duration": 0.41645,
     "end_time": "2023-04-16T12:20:43.134049",
     "exception": false,
     "start_time": "2023-04-16T12:20:42.717599",
     "status": "completed"
    },
    "tags": []
   },
   "outputs": [
    {
     "data": {
      "text/plain": [
       "<Axes: xlabel='Seniority', ylabel='BasePay'>"
      ]
     },
     "execution_count": 82,
     "metadata": {},
     "output_type": "execute_result"
    },
    {
     "data": {
      "image/png": "[encoded data removed]",
      "text/plain": [
       "<Figure size 640x480 with 1 Axes>"
      ]
     },
     "metadata": {},
     "output_type": "display_data"
    }
   ],
   "source": [
    "# Distribution of Mean BasePay by Seniority and Gender - (Seaborn) LINE CHART\n",
    "# Define your color palette here\n",
    "palette = {\"Male\": \"navy\", \"Female\": \"coral\"}\n",
    "sb.lineplot(data = df, x='Seniority', y= 'BasePay', hue = \"Gender\" , marker = 'o', errorbar = None, palette=palette)\n",
    "# plt.title('Figure 13: Average Base Pay by Seniority', size = 14);"
   ]
  },
  {
   "cell_type": "code",
   "execution_count": 83,
   "id": "4a0b2aa1",
   "metadata": {
    "execution": {
     "iopub.execute_input": "2023-04-16T12:20:43.239752Z",
     "iopub.status.busy": "2023-04-16T12:20:43.238663Z",
     "iopub.status.idle": "2023-04-16T12:20:43.324060Z",
     "shell.execute_reply": "2023-04-16T12:20:43.322685Z"
    },
    "papermill": {
     "duration": 0.115149,
     "end_time": "2023-04-16T12:20:43.326673",
     "exception": false,
     "start_time": "2023-04-16T12:20:43.211524",
     "status": "completed"
    },
    "tags": []
   },
   "outputs": [
    {
     "name": "stdout",
     "output_type": "stream",
     "text": [
      "TABLE 3: HIGHEST PAY FOR EACH PROFESSION BY GENDER\n"
     ]
    },
    {
     "data": {
      "text/html": [
       "<div>\n",
       "<style scoped>\n",
       "    .dataframe tbody tr th:only-of-type {\n",
       "        vertical-align: middle;\n",
       "    }\n",
       "\n",
       "    .dataframe tbody tr th {\n",
       "        vertical-align: top;\n",
       "    }\n",
       "\n",
       "    .dataframe thead th {\n",
       "        text-align: right;\n",
       "    }\n",
       "</style>\n",
       "<table border=\"1\" class=\"dataframe\">\n",
       "  <thead>\n",
       "    <tr style=\"text-align: right;\">\n",
       "      <th></th>\n",
       "      <th>JobTitle</th>\n",
       "      <th>BasePay</th>\n",
       "    </tr>\n",
       "  </thead>\n",
       "  <tbody>\n",
       "    <tr>\n",
       "      <th>Female</th>\n",
       "      <td>Graphic Designer</td>\n",
       "      <td>1604892</td>\n",
       "    </tr>\n",
       "    <tr>\n",
       "      <th>Male</th>\n",
       "      <td>Graphic Designer</td>\n",
       "      <td>1626144</td>\n",
       "    </tr>\n",
       "    <tr>\n",
       "      <th>Female</th>\n",
       "      <td>Software Engineer</td>\n",
       "      <td>1405572</td>\n",
       "    </tr>\n",
       "    <tr>\n",
       "      <th>Male</th>\n",
       "      <td>Software Engineer</td>\n",
       "      <td>1925520</td>\n",
       "    </tr>\n",
       "    <tr>\n",
       "      <th>Female</th>\n",
       "      <td>Warehouse Associate</td>\n",
       "      <td>1609308</td>\n",
       "    </tr>\n",
       "    <tr>\n",
       "      <th>Male</th>\n",
       "      <td>Warehouse Associate</td>\n",
       "      <td>1607124</td>\n",
       "    </tr>\n",
       "    <tr>\n",
       "      <th>Female</th>\n",
       "      <td>IT</td>\n",
       "      <td>1587204</td>\n",
       "    </tr>\n",
       "    <tr>\n",
       "      <th>Male</th>\n",
       "      <td>IT</td>\n",
       "      <td>1982748</td>\n",
       "    </tr>\n",
       "    <tr>\n",
       "      <th>Female</th>\n",
       "      <td>Sales Associate</td>\n",
       "      <td>1710060</td>\n",
       "    </tr>\n",
       "    <tr>\n",
       "      <th>Male</th>\n",
       "      <td>Sales Associate</td>\n",
       "      <td>1634508</td>\n",
       "    </tr>\n",
       "    <tr>\n",
       "      <th>Female</th>\n",
       "      <td>Driver</td>\n",
       "      <td>1568640</td>\n",
       "    </tr>\n",
       "    <tr>\n",
       "      <th>Male</th>\n",
       "      <td>Driver</td>\n",
       "      <td>1629372</td>\n",
       "    </tr>\n",
       "    <tr>\n",
       "      <th>Female</th>\n",
       "      <td>Financial Analyst</td>\n",
       "      <td>1754280</td>\n",
       "    </tr>\n",
       "    <tr>\n",
       "      <th>Male</th>\n",
       "      <td>Financial Analyst</td>\n",
       "      <td>1694232</td>\n",
       "    </tr>\n",
       "    <tr>\n",
       "      <th>Female</th>\n",
       "      <td>Marketing Associate</td>\n",
       "      <td>1547640</td>\n",
       "    </tr>\n",
       "    <tr>\n",
       "      <th>Male</th>\n",
       "      <td>Marketing Associate</td>\n",
       "      <td>1402008</td>\n",
       "    </tr>\n",
       "    <tr>\n",
       "      <th>Female</th>\n",
       "      <td>Data Scientist</td>\n",
       "      <td>1692060</td>\n",
       "    </tr>\n",
       "    <tr>\n",
       "      <th>Male</th>\n",
       "      <td>Data Scientist</td>\n",
       "      <td>1544760</td>\n",
       "    </tr>\n",
       "    <tr>\n",
       "      <th>Female</th>\n",
       "      <td>Manager</td>\n",
       "      <td>1927368</td>\n",
       "    </tr>\n",
       "    <tr>\n",
       "      <th>Male</th>\n",
       "      <td>Manager</td>\n",
       "      <td>2156712</td>\n",
       "    </tr>\n",
       "  </tbody>\n",
       "</table>\n",
       "</div>"
      ],
      "text/plain": [
       "                   JobTitle  BasePay\n",
       "Female     Graphic Designer  1604892\n",
       "Male       Graphic Designer  1626144\n",
       "Female    Software Engineer  1405572\n",
       "Male      Software Engineer  1925520\n",
       "Female  Warehouse Associate  1609308\n",
       "Male    Warehouse Associate  1607124\n",
       "Female                   IT  1587204\n",
       "Male                     IT  1982748\n",
       "Female      Sales Associate  1710060\n",
       "Male        Sales Associate  1634508\n",
       "Female               Driver  1568640\n",
       "Male                 Driver  1629372\n",
       "Female    Financial Analyst  1754280\n",
       "Male      Financial Analyst  1694232\n",
       "Female  Marketing Associate  1547640\n",
       "Male    Marketing Associate  1402008\n",
       "Female       Data Scientist  1692060\n",
       "Male         Data Scientist  1544760\n",
       "Female              Manager  1927368\n",
       "Male                Manager  2156712"
      ]
     },
     "execution_count": 83,
     "metadata": {},
     "output_type": "execute_result"
    }
   ],
   "source": [
    "jobs = df.JobTitle.unique()\n",
    "jobs\n",
    "\n",
    "# Highest Pay for all Professions by Gender\n",
    "max_pay_list_by_gender = pd.DataFrame(columns= [\"JobTitle\", \"BasePay\"])\n",
    "\n",
    "for jobname in jobs:\n",
    "    max_pay = df[df.JobTitle == jobname].groupby('Gender').max()[[\"JobTitle\", \"BasePay\"]]\n",
    "    max_pay_list_by_gender = pd.concat([max_pay_list_by_gender , max_pay])\n",
    " \n",
    "print( 'Table 3: highest pay for each profession by gender'.upper()) \n",
    "max_pay_list_by_gender    "
   ]
  },
  {
   "cell_type": "code",
   "execution_count": 84,
   "id": "818e1293",
   "metadata": {
    "execution": {
     "iopub.execute_input": "2023-04-16T12:20:43.535635Z",
     "iopub.status.busy": "2023-04-16T12:20:43.534434Z",
     "iopub.status.idle": "2023-04-16T12:20:43.557610Z",
     "shell.execute_reply": "2023-04-16T12:20:43.556390Z"
    },
    "papermill": {
     "duration": 0.05242,
     "end_time": "2023-04-16T12:20:43.560120",
     "exception": false,
     "start_time": "2023-04-16T12:20:43.507700",
     "status": "completed"
    },
    "tags": []
   },
   "outputs": [
    {
     "name": "stdout",
     "output_type": "stream",
     "text": [
      "TABLE 4: CROSSTAB - GENDER AND PERFORMANCE EVALUATION SCORE.\n"
     ]
    },
    {
     "data": {
      "text/html": [
       "<div>\n",
       "<style scoped>\n",
       "    .dataframe tbody tr th:only-of-type {\n",
       "        vertical-align: middle;\n",
       "    }\n",
       "\n",
       "    .dataframe tbody tr th {\n",
       "        vertical-align: top;\n",
       "    }\n",
       "\n",
       "    .dataframe thead th {\n",
       "        text-align: right;\n",
       "    }\n",
       "</style>\n",
       "<table border=\"1\" class=\"dataframe\">\n",
       "  <thead>\n",
       "    <tr style=\"text-align: right;\">\n",
       "      <th>PerfEval</th>\n",
       "      <th>1</th>\n",
       "      <th>2</th>\n",
       "      <th>3</th>\n",
       "      <th>4</th>\n",
       "      <th>5</th>\n",
       "    </tr>\n",
       "    <tr>\n",
       "      <th>Gender</th>\n",
       "      <th></th>\n",
       "      <th></th>\n",
       "      <th></th>\n",
       "      <th></th>\n",
       "      <th></th>\n",
       "    </tr>\n",
       "  </thead>\n",
       "  <tbody>\n",
       "    <tr>\n",
       "      <th>Female</th>\n",
       "      <td>106</td>\n",
       "      <td>90</td>\n",
       "      <td>88</td>\n",
       "      <td>96</td>\n",
       "      <td>88</td>\n",
       "    </tr>\n",
       "    <tr>\n",
       "      <th>Male</th>\n",
       "      <td>92</td>\n",
       "      <td>102</td>\n",
       "      <td>106</td>\n",
       "      <td>111</td>\n",
       "      <td>121</td>\n",
       "    </tr>\n",
       "  </tbody>\n",
       "</table>\n",
       "</div>"
      ],
      "text/plain": [
       "PerfEval    1    2    3    4    5\n",
       "Gender                           \n",
       "Female    106   90   88   96   88\n",
       "Male       92  102  106  111  121"
      ]
     },
     "execution_count": 84,
     "metadata": {},
     "output_type": "execute_result"
    }
   ],
   "source": [
    "# Crosstab between gender and Performance Evaluation Score.\n",
    "gen_perf_eval = pd.crosstab(df.Gender , df.PerfEval)\n",
    "print(\"Table 4: Crosstab - Gender and Performance Evaluation Score.\".upper())\n",
    "gen_perf_eval"
   ]
  },
  {
   "cell_type": "code",
   "execution_count": 85,
   "id": "d6a77837",
   "metadata": {
    "execution": {
     "iopub.execute_input": "2023-04-16T12:20:43.665756Z",
     "iopub.status.busy": "2023-04-16T12:20:43.665354Z",
     "iopub.status.idle": "2023-04-16T12:20:43.673288Z",
     "shell.execute_reply": "2023-04-16T12:20:43.672244Z"
    },
    "papermill": {
     "duration": 0.037812,
     "end_time": "2023-04-16T12:20:43.675545",
     "exception": false,
     "start_time": "2023-04-16T12:20:43.637733",
     "status": "completed"
    },
    "tags": []
   },
   "outputs": [
    {
     "data": {
      "text/plain": [
       "Chi2ContingencyResult(statistic=5.634564094743166, pvalue=0.22815195929022594, dof=4, expected_freq=array([[ 92.664,  89.856,  90.792,  96.876,  97.812],\n",
       "       [105.336, 102.144, 103.208, 110.124, 111.188]]))"
      ]
     },
     "execution_count": 85,
     "metadata": {},
     "output_type": "execute_result"
    }
   ],
   "source": [
    "# Chi-Square Test for the above hypothesis:\n",
    "chi = stats.chi2_contingency(gen_perf_eval)\n",
    "chi"
   ]
  },
  {
   "cell_type": "code",
   "execution_count": 86,
   "id": "d9c01abf",
   "metadata": {
    "execution": {
     "iopub.execute_input": "2023-04-16T12:20:43.837100Z",
     "iopub.status.busy": "2023-04-16T12:20:43.836286Z",
     "iopub.status.idle": "2023-04-16T12:20:43.846683Z",
     "shell.execute_reply": "2023-04-16T12:20:43.845419Z"
    },
    "papermill": {
     "duration": 0.042342,
     "end_time": "2023-04-16T12:20:43.849379",
     "exception": false,
     "start_time": "2023-04-16T12:20:43.807037",
     "status": "completed"
    },
    "tags": []
   },
   "outputs": [],
   "source": [
    "male_pay = df.query('Gender== \"Male\"')['BasePay']\n",
    "female_pay = df[df.Gender =='Female']['BasePay']"
   ]
  },
  {
   "cell_type": "code",
   "execution_count": 87,
   "id": "be55e43e",
   "metadata": {
    "execution": {
     "iopub.execute_input": "2023-04-16T12:20:43.958448Z",
     "iopub.status.busy": "2023-04-16T12:20:43.957695Z",
     "iopub.status.idle": "2023-04-16T12:20:43.965167Z",
     "shell.execute_reply": "2023-04-16T12:20:43.964357Z"
    },
    "papermill": {
     "duration": 0.037736,
     "end_time": "2023-04-16T12:20:43.967361",
     "exception": false,
     "start_time": "2023-04-16T12:20:43.929625",
     "status": "completed"
    },
    "tags": []
   },
   "outputs": [
    {
     "data": {
      "text/plain": [
       "LeveneResult(statistic=0.6747326671419751, pvalue=0.4116026121328914)"
      ]
     },
     "execution_count": 87,
     "metadata": {},
     "output_type": "execute_result"
    }
   ],
   "source": [
    "stats.levene(female_pay, male_pay)"
   ]
  },
  {
   "cell_type": "code",
   "execution_count": 88,
   "id": "6bf66881",
   "metadata": {
    "execution": {
     "iopub.execute_input": "2023-04-16T12:20:44.130718Z",
     "iopub.status.busy": "2023-04-16T12:20:44.130333Z",
     "iopub.status.idle": "2023-04-16T12:20:44.135432Z",
     "shell.execute_reply": "2023-04-16T12:20:44.134423Z"
    },
    "papermill": {
     "duration": 0.039677,
     "end_time": "2023-04-16T12:20:44.137512",
     "exception": false,
     "start_time": "2023-04-16T12:20:44.097835",
     "status": "completed"
    },
    "scrolled": true,
    "tags": []
   },
   "outputs": [],
   "source": [
    "# T-Test model\n",
    "model = sms.CompareMeans.from_data(female_pay, male_pay)"
   ]
  },
  {
   "cell_type": "code",
   "execution_count": 89,
   "id": "edc5e108",
   "metadata": {
    "execution": {
     "iopub.execute_input": "2023-04-16T12:20:44.191776Z",
     "iopub.status.busy": "2023-04-16T12:20:44.191031Z",
     "iopub.status.idle": "2023-04-16T12:20:44.205351Z",
     "shell.execute_reply": "2023-04-16T12:20:44.204261Z"
    },
    "papermill": {
     "duration": 0.044205,
     "end_time": "2023-04-16T12:20:44.207639",
     "exception": false,
     "start_time": "2023-04-16T12:20:44.163434",
     "status": "completed"
    },
    "tags": []
   },
   "outputs": [
    {
     "name": "stdout",
     "output_type": "stream",
     "text": [
      "Independent Samples                            Test for equality of means                          \n",
      "==============================================================================\n",
      "                 coef    std err          t      P>|t|      [0.025      0.975]\n",
      "------------------------------------------------------------------------------\n",
      "subset #1  -1.022e+05    1.9e+04     -5.376      0.000   -1.39e+05   -6.49e+04\n",
      "==============================================================================\n"
     ]
    }
   ],
   "source": [
    "# Independent samples T-Test with Equal variances.\n",
    "\n",
    "print('Independent Samples ', model.summary(use_t=True, alpha=0.05 , usevar='pooled'))"
   ]
  }
 ],
 "metadata": {
  "kernelspec": {
   "display_name": "Python 3",
   "language": "python",
   "name": "python3"
  },
  "language_info": {
   "codemirror_mode": {
    "name": "ipython",
    "version": 3
   },
   "file_extension": ".py",
   "mimetype": "text/x-python",
   "name": "python",
   "nbconvert_exporter": "python",
   "pygments_lexer": "ipython3",
   "version": "3.11.5"
  },
  "papermill": {
   "default_parameters": {},
   "duration": 22.29714,
   "end_time": "2023-04-16T12:20:45.367798",
   "environment_variables": {},
   "exception": null,
   "input_path": "__notebook__.ipynb",
   "output_path": "__notebook__.ipynb",
   "parameters": {},
   "start_time": "2023-04-16T12:20:23.070658",
   "version": "2.4.0"
  }
 },
 "nbformat": 4,
 "nbformat_minor": 5
}
